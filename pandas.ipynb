{
 "cells": [
  {
   "cell_type": "code",
   "execution_count": 1,
   "metadata": {},
   "outputs": [
    {
     "data": {
      "text/plain": [
       "'0.25.3'"
      ]
     },
     "execution_count": 1,
     "metadata": {},
     "output_type": "execute_result"
    }
   ],
   "source": [
    "import pandas as pd\n",
    "\n",
    "pd.__version__"
   ]
  },
  {
   "cell_type": "code",
   "execution_count": 33,
   "metadata": {},
   "outputs": [],
   "source": [
    "%matplotlib inline\n",
    "import numpy as np"
   ]
  },
  {
   "cell_type": "code",
   "execution_count": 3,
   "metadata": {},
   "outputs": [
    {
     "name": "stderr",
     "output_type": "stream",
     "text": [
      "c:\\users\\acer\\appdata\\local\\programs\\python\\python35\\lib\\site-packages\\setuptools\\distutils_patch.py:26: UserWarning: Distutils was imported before Setuptools. This usage is discouraged and may exhibit undesirable behaviors or errors. Please use Setuptools' objects directly or at least import Setuptools first.\n",
      "  \"Distutils was imported before Setuptools. This usage is discouraged \"\n"
     ]
    },
    {
     "name": "stdout",
     "output_type": "stream",
     "text": [
      "\n",
      "INSTALLED VERSIONS\n",
      "------------------\n",
      "commit           : None\n",
      "python           : 3.5.4.final.0\n",
      "python-bits      : 64\n",
      "OS               : Windows\n",
      "OS-release       : 10\n",
      "machine          : AMD64\n",
      "processor        : Intel64 Family 6 Model 142 Stepping 12, GenuineIntel\n",
      "byteorder        : little\n",
      "LC_ALL           : None\n",
      "LANG             : None\n",
      "LOCALE           : None.None\n",
      "\n",
      "pandas           : 0.25.3\n",
      "numpy            : 1.16.6\n",
      "pytz             : 2020.1\n",
      "dateutil         : 2.8.1\n",
      "pip              : 20.2\n",
      "setuptools       : 49.2.0\n",
      "Cython           : None\n",
      "pytest           : None\n",
      "hypothesis       : None\n",
      "sphinx           : None\n",
      "blosc            : None\n",
      "feather          : None\n",
      "xlsxwriter       : None\n",
      "lxml.etree       : 4.5.2\n",
      "html5lib         : 0.9999999\n",
      "pymysql          : None\n",
      "psycopg2         : None\n",
      "jinja2           : 2.11.2\n",
      "IPython          : 7.9.0\n",
      "pandas_datareader: 0.8.1\n",
      "scipy            : 1.4.1\n",
      "xlwt             : None\n",
      "xarray           : None\n",
      "s3fs             : None\n",
      "tables           : None\n",
      "pytables         : None\n",
      "fastparquet      : None\n",
      "xlrd             : 1.2.0\n",
      "numexpr          : None\n",
      "sqlalchemy       : None\n",
      "odfpy            : None\n",
      "xlsxwriter       : None\n",
      "pandas_gbq       : None\n",
      "matplotlib       : 3.0.3\n",
      "gcsfs            : None\n",
      "pyarrow          : None\n",
      "openpyxl         : None\n",
      "bs4              : None\n",
      "lxml.etree       : 4.5.2\n",
      "bottleneck       : None\n"
     ]
    }
   ],
   "source": [
    "pd.show_versions()"
   ]
  },
  {
   "cell_type": "code",
   "execution_count": 4,
   "metadata": {},
   "outputs": [],
   "source": [
    "data = np.random.randn(10, 4)"
   ]
  },
  {
   "cell_type": "code",
   "execution_count": 5,
   "metadata": {},
   "outputs": [
    {
     "data": {
      "text/html": [
       "<div>\n",
       "<style scoped>\n",
       "    .dataframe tbody tr th:only-of-type {\n",
       "        vertical-align: middle;\n",
       "    }\n",
       "\n",
       "    .dataframe tbody tr th {\n",
       "        vertical-align: top;\n",
       "    }\n",
       "\n",
       "    .dataframe thead th {\n",
       "        text-align: right;\n",
       "    }\n",
       "</style>\n",
       "<table border=\"1\" class=\"dataframe\">\n",
       "  <thead>\n",
       "    <tr style=\"text-align: right;\">\n",
       "      <th></th>\n",
       "      <th>0</th>\n",
       "      <th>1</th>\n",
       "      <th>2</th>\n",
       "      <th>3</th>\n",
       "    </tr>\n",
       "  </thead>\n",
       "  <tbody>\n",
       "    <tr>\n",
       "      <th>0</th>\n",
       "      <td>0.706924</td>\n",
       "      <td>-0.885520</td>\n",
       "      <td>0.239102</td>\n",
       "      <td>-0.450159</td>\n",
       "    </tr>\n",
       "    <tr>\n",
       "      <th>1</th>\n",
       "      <td>0.167206</td>\n",
       "      <td>0.629101</td>\n",
       "      <td>-1.656515</td>\n",
       "      <td>-0.945460</td>\n",
       "    </tr>\n",
       "    <tr>\n",
       "      <th>2</th>\n",
       "      <td>-2.116734</td>\n",
       "      <td>0.256826</td>\n",
       "      <td>-1.764289</td>\n",
       "      <td>-1.021535</td>\n",
       "    </tr>\n",
       "    <tr>\n",
       "      <th>3</th>\n",
       "      <td>0.895724</td>\n",
       "      <td>0.291680</td>\n",
       "      <td>-0.183340</td>\n",
       "      <td>0.885510</td>\n",
       "    </tr>\n",
       "    <tr>\n",
       "      <th>4</th>\n",
       "      <td>0.339823</td>\n",
       "      <td>0.734740</td>\n",
       "      <td>-0.942793</td>\n",
       "      <td>-0.052113</td>\n",
       "    </tr>\n",
       "    <tr>\n",
       "      <th>5</th>\n",
       "      <td>-0.888716</td>\n",
       "      <td>1.010619</td>\n",
       "      <td>-1.150790</td>\n",
       "      <td>1.856940</td>\n",
       "    </tr>\n",
       "    <tr>\n",
       "      <th>6</th>\n",
       "      <td>-0.212146</td>\n",
       "      <td>0.409866</td>\n",
       "      <td>0.019371</td>\n",
       "      <td>0.990364</td>\n",
       "    </tr>\n",
       "    <tr>\n",
       "      <th>7</th>\n",
       "      <td>0.800313</td>\n",
       "      <td>-0.084826</td>\n",
       "      <td>0.241547</td>\n",
       "      <td>-0.474945</td>\n",
       "    </tr>\n",
       "    <tr>\n",
       "      <th>8</th>\n",
       "      <td>1.295074</td>\n",
       "      <td>-0.437085</td>\n",
       "      <td>1.218381</td>\n",
       "      <td>-0.030872</td>\n",
       "    </tr>\n",
       "    <tr>\n",
       "      <th>9</th>\n",
       "      <td>-0.212035</td>\n",
       "      <td>1.086086</td>\n",
       "      <td>0.060973</td>\n",
       "      <td>-0.911369</td>\n",
       "    </tr>\n",
       "  </tbody>\n",
       "</table>\n",
       "</div>"
      ],
      "text/plain": [
       "          0         1         2         3\n",
       "0  0.706924 -0.885520  0.239102 -0.450159\n",
       "1  0.167206  0.629101 -1.656515 -0.945460\n",
       "2 -2.116734  0.256826 -1.764289 -1.021535\n",
       "3  0.895724  0.291680 -0.183340  0.885510\n",
       "4  0.339823  0.734740 -0.942793 -0.052113\n",
       "5 -0.888716  1.010619 -1.150790  1.856940\n",
       "6 -0.212146  0.409866  0.019371  0.990364\n",
       "7  0.800313 -0.084826  0.241547 -0.474945\n",
       "8  1.295074 -0.437085  1.218381 -0.030872\n",
       "9 -0.212035  1.086086  0.060973 -0.911369"
      ]
     },
     "execution_count": 5,
     "metadata": {},
     "output_type": "execute_result"
    }
   ],
   "source": [
    "df = pd.DataFrame(data)\n",
    "df"
   ]
  },
  {
   "cell_type": "code",
   "execution_count": 6,
   "metadata": {},
   "outputs": [
    {
     "data": {
      "text/html": [
       "<div>\n",
       "<style scoped>\n",
       "    .dataframe tbody tr th:only-of-type {\n",
       "        vertical-align: middle;\n",
       "    }\n",
       "\n",
       "    .dataframe tbody tr th {\n",
       "        vertical-align: top;\n",
       "    }\n",
       "\n",
       "    .dataframe thead th {\n",
       "        text-align: right;\n",
       "    }\n",
       "</style>\n",
       "<table border=\"1\" class=\"dataframe\">\n",
       "  <thead>\n",
       "    <tr style=\"text-align: right;\">\n",
       "      <th></th>\n",
       "      <th>No1</th>\n",
       "      <th>No2</th>\n",
       "      <th>No3</th>\n",
       "      <th>No4</th>\n",
       "    </tr>\n",
       "  </thead>\n",
       "  <tbody>\n",
       "    <tr>\n",
       "      <th>0</th>\n",
       "      <td>0.706924</td>\n",
       "      <td>-0.885520</td>\n",
       "      <td>0.239102</td>\n",
       "      <td>-0.450159</td>\n",
       "    </tr>\n",
       "    <tr>\n",
       "      <th>1</th>\n",
       "      <td>0.167206</td>\n",
       "      <td>0.629101</td>\n",
       "      <td>-1.656515</td>\n",
       "      <td>-0.945460</td>\n",
       "    </tr>\n",
       "    <tr>\n",
       "      <th>2</th>\n",
       "      <td>-2.116734</td>\n",
       "      <td>0.256826</td>\n",
       "      <td>-1.764289</td>\n",
       "      <td>-1.021535</td>\n",
       "    </tr>\n",
       "    <tr>\n",
       "      <th>3</th>\n",
       "      <td>0.895724</td>\n",
       "      <td>0.291680</td>\n",
       "      <td>-0.183340</td>\n",
       "      <td>0.885510</td>\n",
       "    </tr>\n",
       "    <tr>\n",
       "      <th>4</th>\n",
       "      <td>0.339823</td>\n",
       "      <td>0.734740</td>\n",
       "      <td>-0.942793</td>\n",
       "      <td>-0.052113</td>\n",
       "    </tr>\n",
       "    <tr>\n",
       "      <th>5</th>\n",
       "      <td>-0.888716</td>\n",
       "      <td>1.010619</td>\n",
       "      <td>-1.150790</td>\n",
       "      <td>1.856940</td>\n",
       "    </tr>\n",
       "    <tr>\n",
       "      <th>6</th>\n",
       "      <td>-0.212146</td>\n",
       "      <td>0.409866</td>\n",
       "      <td>0.019371</td>\n",
       "      <td>0.990364</td>\n",
       "    </tr>\n",
       "    <tr>\n",
       "      <th>7</th>\n",
       "      <td>0.800313</td>\n",
       "      <td>-0.084826</td>\n",
       "      <td>0.241547</td>\n",
       "      <td>-0.474945</td>\n",
       "    </tr>\n",
       "    <tr>\n",
       "      <th>8</th>\n",
       "      <td>1.295074</td>\n",
       "      <td>-0.437085</td>\n",
       "      <td>1.218381</td>\n",
       "      <td>-0.030872</td>\n",
       "    </tr>\n",
       "    <tr>\n",
       "      <th>9</th>\n",
       "      <td>-0.212035</td>\n",
       "      <td>1.086086</td>\n",
       "      <td>0.060973</td>\n",
       "      <td>-0.911369</td>\n",
       "    </tr>\n",
       "  </tbody>\n",
       "</table>\n",
       "</div>"
      ],
      "text/plain": [
       "        No1       No2       No3       No4\n",
       "0  0.706924 -0.885520  0.239102 -0.450159\n",
       "1  0.167206  0.629101 -1.656515 -0.945460\n",
       "2 -2.116734  0.256826 -1.764289 -1.021535\n",
       "3  0.895724  0.291680 -0.183340  0.885510\n",
       "4  0.339823  0.734740 -0.942793 -0.052113\n",
       "5 -0.888716  1.010619 -1.150790  1.856940\n",
       "6 -0.212146  0.409866  0.019371  0.990364\n",
       "7  0.800313 -0.084826  0.241547 -0.474945\n",
       "8  1.295074 -0.437085  1.218381 -0.030872\n",
       "9 -0.212035  1.086086  0.060973 -0.911369"
      ]
     },
     "execution_count": 6,
     "metadata": {},
     "output_type": "execute_result"
    }
   ],
   "source": [
    "df.columns = ['No1', 'No2', 'No3', 'No4']\n",
    "df"
   ]
  },
  {
   "cell_type": "code",
   "execution_count": 7,
   "metadata": {},
   "outputs": [
    {
     "data": {
      "text/html": [
       "<div>\n",
       "<style scoped>\n",
       "    .dataframe tbody tr th:only-of-type {\n",
       "        vertical-align: middle;\n",
       "    }\n",
       "\n",
       "    .dataframe tbody tr th {\n",
       "        vertical-align: top;\n",
       "    }\n",
       "\n",
       "    .dataframe thead th {\n",
       "        text-align: right;\n",
       "    }\n",
       "</style>\n",
       "<table border=\"1\" class=\"dataframe\">\n",
       "  <thead>\n",
       "    <tr style=\"text-align: right;\">\n",
       "      <th></th>\n",
       "      <th>No1</th>\n",
       "      <th>No2</th>\n",
       "      <th>No3</th>\n",
       "      <th>No4</th>\n",
       "    </tr>\n",
       "  </thead>\n",
       "  <tbody>\n",
       "    <tr>\n",
       "      <th>2016-01-01</th>\n",
       "      <td>0.706924</td>\n",
       "      <td>-0.885520</td>\n",
       "      <td>0.239102</td>\n",
       "      <td>-0.450159</td>\n",
       "    </tr>\n",
       "    <tr>\n",
       "      <th>2016-01-02</th>\n",
       "      <td>0.167206</td>\n",
       "      <td>0.629101</td>\n",
       "      <td>-1.656515</td>\n",
       "      <td>-0.945460</td>\n",
       "    </tr>\n",
       "    <tr>\n",
       "      <th>2016-01-03</th>\n",
       "      <td>-2.116734</td>\n",
       "      <td>0.256826</td>\n",
       "      <td>-1.764289</td>\n",
       "      <td>-1.021535</td>\n",
       "    </tr>\n",
       "    <tr>\n",
       "      <th>2016-01-04</th>\n",
       "      <td>0.895724</td>\n",
       "      <td>0.291680</td>\n",
       "      <td>-0.183340</td>\n",
       "      <td>0.885510</td>\n",
       "    </tr>\n",
       "    <tr>\n",
       "      <th>2016-01-05</th>\n",
       "      <td>0.339823</td>\n",
       "      <td>0.734740</td>\n",
       "      <td>-0.942793</td>\n",
       "      <td>-0.052113</td>\n",
       "    </tr>\n",
       "    <tr>\n",
       "      <th>2016-01-06</th>\n",
       "      <td>-0.888716</td>\n",
       "      <td>1.010619</td>\n",
       "      <td>-1.150790</td>\n",
       "      <td>1.856940</td>\n",
       "    </tr>\n",
       "    <tr>\n",
       "      <th>2016-01-07</th>\n",
       "      <td>-0.212146</td>\n",
       "      <td>0.409866</td>\n",
       "      <td>0.019371</td>\n",
       "      <td>0.990364</td>\n",
       "    </tr>\n",
       "    <tr>\n",
       "      <th>2016-01-08</th>\n",
       "      <td>0.800313</td>\n",
       "      <td>-0.084826</td>\n",
       "      <td>0.241547</td>\n",
       "      <td>-0.474945</td>\n",
       "    </tr>\n",
       "    <tr>\n",
       "      <th>2016-01-09</th>\n",
       "      <td>1.295074</td>\n",
       "      <td>-0.437085</td>\n",
       "      <td>1.218381</td>\n",
       "      <td>-0.030872</td>\n",
       "    </tr>\n",
       "    <tr>\n",
       "      <th>2016-01-10</th>\n",
       "      <td>-0.212035</td>\n",
       "      <td>1.086086</td>\n",
       "      <td>0.060973</td>\n",
       "      <td>-0.911369</td>\n",
       "    </tr>\n",
       "  </tbody>\n",
       "</table>\n",
       "</div>"
      ],
      "text/plain": [
       "                 No1       No2       No3       No4\n",
       "2016-01-01  0.706924 -0.885520  0.239102 -0.450159\n",
       "2016-01-02  0.167206  0.629101 -1.656515 -0.945460\n",
       "2016-01-03 -2.116734  0.256826 -1.764289 -1.021535\n",
       "2016-01-04  0.895724  0.291680 -0.183340  0.885510\n",
       "2016-01-05  0.339823  0.734740 -0.942793 -0.052113\n",
       "2016-01-06 -0.888716  1.010619 -1.150790  1.856940\n",
       "2016-01-07 -0.212146  0.409866  0.019371  0.990364\n",
       "2016-01-08  0.800313 -0.084826  0.241547 -0.474945\n",
       "2016-01-09  1.295074 -0.437085  1.218381 -0.030872\n",
       "2016-01-10 -0.212035  1.086086  0.060973 -0.911369"
      ]
     },
     "execution_count": 7,
     "metadata": {},
     "output_type": "execute_result"
    }
   ],
   "source": [
    "df.index = pd.date_range('2016-01-01', periods=10)\n",
    "df"
   ]
  },
  {
   "cell_type": "code",
   "execution_count": 8,
   "metadata": {},
   "outputs": [
    {
     "data": {
      "text/plain": [
       "No1   -0.888716\n",
       "No2    1.010619\n",
       "No3   -1.150790\n",
       "No4    1.856940\n",
       "Name: 2016-01-06 00:00:00, dtype: float64"
      ]
     },
     "execution_count": 8,
     "metadata": {},
     "output_type": "execute_result"
    }
   ],
   "source": [
    "df.loc['2016-01-06']"
   ]
  },
  {
   "cell_type": "markdown",
   "metadata": {},
   "source": [
    "# iloc---> integer"
   ]
  },
  {
   "cell_type": "code",
   "execution_count": 9,
   "metadata": {},
   "outputs": [
    {
     "data": {
      "text/plain": [
       "No1   -0.888716\n",
       "No2    1.010619\n",
       "No3   -1.150790\n",
       "No4    1.856940\n",
       "Name: 2016-01-06 00:00:00, dtype: float64"
      ]
     },
     "execution_count": 9,
     "metadata": {},
     "output_type": "execute_result"
    }
   ],
   "source": [
    "df.iloc[5]"
   ]
  },
  {
   "cell_type": "code",
   "execution_count": 10,
   "metadata": {},
   "outputs": [
    {
     "data": {
      "text/html": [
       "<div>\n",
       "<style scoped>\n",
       "    .dataframe tbody tr th:only-of-type {\n",
       "        vertical-align: middle;\n",
       "    }\n",
       "\n",
       "    .dataframe tbody tr th {\n",
       "        vertical-align: top;\n",
       "    }\n",
       "\n",
       "    .dataframe thead th {\n",
       "        text-align: right;\n",
       "    }\n",
       "</style>\n",
       "<table border=\"1\" class=\"dataframe\">\n",
       "  <thead>\n",
       "    <tr style=\"text-align: right;\">\n",
       "      <th></th>\n",
       "      <th>No1</th>\n",
       "      <th>No2</th>\n",
       "    </tr>\n",
       "  </thead>\n",
       "  <tbody>\n",
       "    <tr>\n",
       "      <th>2016-01-01</th>\n",
       "      <td>0.706924</td>\n",
       "      <td>-0.885520</td>\n",
       "    </tr>\n",
       "    <tr>\n",
       "      <th>2016-01-02</th>\n",
       "      <td>0.167206</td>\n",
       "      <td>0.629101</td>\n",
       "    </tr>\n",
       "    <tr>\n",
       "      <th>2016-01-03</th>\n",
       "      <td>-2.116734</td>\n",
       "      <td>0.256826</td>\n",
       "    </tr>\n",
       "    <tr>\n",
       "      <th>2016-01-04</th>\n",
       "      <td>0.895724</td>\n",
       "      <td>0.291680</td>\n",
       "    </tr>\n",
       "    <tr>\n",
       "      <th>2016-01-05</th>\n",
       "      <td>0.339823</td>\n",
       "      <td>0.734740</td>\n",
       "    </tr>\n",
       "    <tr>\n",
       "      <th>2016-01-06</th>\n",
       "      <td>-0.888716</td>\n",
       "      <td>1.010619</td>\n",
       "    </tr>\n",
       "    <tr>\n",
       "      <th>2016-01-07</th>\n",
       "      <td>-0.212146</td>\n",
       "      <td>0.409866</td>\n",
       "    </tr>\n",
       "    <tr>\n",
       "      <th>2016-01-08</th>\n",
       "      <td>0.800313</td>\n",
       "      <td>-0.084826</td>\n",
       "    </tr>\n",
       "    <tr>\n",
       "      <th>2016-01-09</th>\n",
       "      <td>1.295074</td>\n",
       "      <td>-0.437085</td>\n",
       "    </tr>\n",
       "    <tr>\n",
       "      <th>2016-01-10</th>\n",
       "      <td>-0.212035</td>\n",
       "      <td>1.086086</td>\n",
       "    </tr>\n",
       "  </tbody>\n",
       "</table>\n",
       "</div>"
      ],
      "text/plain": [
       "                 No1       No2\n",
       "2016-01-01  0.706924 -0.885520\n",
       "2016-01-02  0.167206  0.629101\n",
       "2016-01-03 -2.116734  0.256826\n",
       "2016-01-04  0.895724  0.291680\n",
       "2016-01-05  0.339823  0.734740\n",
       "2016-01-06 -0.888716  1.010619\n",
       "2016-01-07 -0.212146  0.409866\n",
       "2016-01-08  0.800313 -0.084826\n",
       "2016-01-09  1.295074 -0.437085\n",
       "2016-01-10 -0.212035  1.086086"
      ]
     },
     "execution_count": 10,
     "metadata": {},
     "output_type": "execute_result"
    }
   ],
   "source": [
    "df[['No1', 'No2']]"
   ]
  },
  {
   "cell_type": "markdown",
   "metadata": {},
   "source": [
    "!https://github.com/victorgau/BI20201007/blob/master/datascience/Pandas%20%E7%B0%A1%E4%BB%8B.ipynb"
   ]
  },
  {
   "cell_type": "code",
   "execution_count": 1,
   "metadata": {},
   "outputs": [],
   "source": [
    "import pandas_datareader.data as web"
   ]
  },
  {
   "cell_type": "code",
   "execution_count": 6,
   "metadata": {},
   "outputs": [
    {
     "data": {
      "text/html": [
       "<div>\n",
       "<style scoped>\n",
       "    .dataframe tbody tr th:only-of-type {\n",
       "        vertical-align: middle;\n",
       "    }\n",
       "\n",
       "    .dataframe tbody tr th {\n",
       "        vertical-align: top;\n",
       "    }\n",
       "\n",
       "    .dataframe thead th {\n",
       "        text-align: right;\n",
       "    }\n",
       "</style>\n",
       "<table border=\"1\" class=\"dataframe\">\n",
       "  <thead>\n",
       "    <tr style=\"text-align: right;\">\n",
       "      <th></th>\n",
       "      <th>High</th>\n",
       "      <th>Low</th>\n",
       "      <th>Open</th>\n",
       "      <th>Close</th>\n",
       "      <th>Volume</th>\n",
       "      <th>Adj Close</th>\n",
       "    </tr>\n",
       "    <tr>\n",
       "      <th>Date</th>\n",
       "      <th></th>\n",
       "      <th></th>\n",
       "      <th></th>\n",
       "      <th></th>\n",
       "      <th></th>\n",
       "      <th></th>\n",
       "    </tr>\n",
       "  </thead>\n",
       "  <tbody>\n",
       "    <tr>\n",
       "      <th>2020-10-14</th>\n",
       "      <td>107.199997</td>\n",
       "      <td>106.449997</td>\n",
       "      <td>107.050003</td>\n",
       "      <td>106.699997</td>\n",
       "      <td>2562860.0</td>\n",
       "      <td>106.699997</td>\n",
       "    </tr>\n",
       "    <tr>\n",
       "      <th>2020-10-15</th>\n",
       "      <td>106.500000</td>\n",
       "      <td>105.099998</td>\n",
       "      <td>106.500000</td>\n",
       "      <td>105.699997</td>\n",
       "      <td>4550154.0</td>\n",
       "      <td>105.699997</td>\n",
       "    </tr>\n",
       "    <tr>\n",
       "      <th>2020-10-16</th>\n",
       "      <td>106.300003</td>\n",
       "      <td>105.099998</td>\n",
       "      <td>105.699997</td>\n",
       "      <td>105.250000</td>\n",
       "      <td>3239005.0</td>\n",
       "      <td>105.250000</td>\n",
       "    </tr>\n",
       "    <tr>\n",
       "      <th>2020-10-19</th>\n",
       "      <td>106.599998</td>\n",
       "      <td>105.599998</td>\n",
       "      <td>105.650002</td>\n",
       "      <td>106.599998</td>\n",
       "      <td>3459323.0</td>\n",
       "      <td>106.599998</td>\n",
       "    </tr>\n",
       "    <tr>\n",
       "      <th>2020-10-21</th>\n",
       "      <td>106.550003</td>\n",
       "      <td>106.000000</td>\n",
       "      <td>106.000000</td>\n",
       "      <td>106.000000</td>\n",
       "      <td>1363000.0</td>\n",
       "      <td>106.000000</td>\n",
       "    </tr>\n",
       "  </tbody>\n",
       "</table>\n",
       "</div>"
      ],
      "text/plain": [
       "                  High         Low        Open       Close     Volume  \\\n",
       "Date                                                                    \n",
       "2020-10-14  107.199997  106.449997  107.050003  106.699997  2562860.0   \n",
       "2020-10-15  106.500000  105.099998  106.500000  105.699997  4550154.0   \n",
       "2020-10-16  106.300003  105.099998  105.699997  105.250000  3239005.0   \n",
       "2020-10-19  106.599998  105.599998  105.650002  106.599998  3459323.0   \n",
       "2020-10-21  106.550003  106.000000  106.000000  106.000000  1363000.0   \n",
       "\n",
       "             Adj Close  \n",
       "Date                    \n",
       "2020-10-14  106.699997  \n",
       "2020-10-15  105.699997  \n",
       "2020-10-16  105.250000  \n",
       "2020-10-19  106.599998  \n",
       "2020-10-21  106.000000  "
      ]
     },
     "execution_count": 6,
     "metadata": {},
     "output_type": "execute_result"
    }
   ],
   "source": [
    "df = web.DataReader(\"0050.tw\", 'yahoo', \"2018-01-01\")\n",
    "\n",
    "df.tail()"
   ]
  },
  {
   "cell_type": "code",
   "execution_count": 2,
   "metadata": {},
   "outputs": [
    {
     "data": {
      "text/html": [
       "<div>\n",
       "<style scoped>\n",
       "    .dataframe tbody tr th:only-of-type {\n",
       "        vertical-align: middle;\n",
       "    }\n",
       "\n",
       "    .dataframe tbody tr th {\n",
       "        vertical-align: top;\n",
       "    }\n",
       "\n",
       "    .dataframe thead th {\n",
       "        text-align: right;\n",
       "    }\n",
       "</style>\n",
       "<table border=\"1\" class=\"dataframe\">\n",
       "  <thead>\n",
       "    <tr style=\"text-align: right;\">\n",
       "      <th></th>\n",
       "      <th>High</th>\n",
       "      <th>Low</th>\n",
       "      <th>Open</th>\n",
       "      <th>Close</th>\n",
       "      <th>Volume</th>\n",
       "      <th>Adj Close</th>\n",
       "    </tr>\n",
       "    <tr>\n",
       "      <th>Date</th>\n",
       "      <th></th>\n",
       "      <th></th>\n",
       "      <th></th>\n",
       "      <th></th>\n",
       "      <th></th>\n",
       "      <th></th>\n",
       "    </tr>\n",
       "  </thead>\n",
       "  <tbody>\n",
       "    <tr>\n",
       "      <th>2018-01-02</th>\n",
       "      <td>64.421997</td>\n",
       "      <td>62.200001</td>\n",
       "      <td>62.400002</td>\n",
       "      <td>64.106003</td>\n",
       "      <td>21761000.0</td>\n",
       "      <td>64.106003</td>\n",
       "    </tr>\n",
       "    <tr>\n",
       "      <th>2018-01-03</th>\n",
       "      <td>65.050003</td>\n",
       "      <td>63.110001</td>\n",
       "      <td>64.199997</td>\n",
       "      <td>63.450001</td>\n",
       "      <td>22607500.0</td>\n",
       "      <td>63.450001</td>\n",
       "    </tr>\n",
       "    <tr>\n",
       "      <th>2018-01-04</th>\n",
       "      <td>63.709999</td>\n",
       "      <td>61.136002</td>\n",
       "      <td>62.574001</td>\n",
       "      <td>62.924000</td>\n",
       "      <td>49731500.0</td>\n",
       "      <td>62.924000</td>\n",
       "    </tr>\n",
       "    <tr>\n",
       "      <th>2018-01-05</th>\n",
       "      <td>63.448002</td>\n",
       "      <td>62.400002</td>\n",
       "      <td>63.324001</td>\n",
       "      <td>63.316002</td>\n",
       "      <td>22956000.0</td>\n",
       "      <td>63.316002</td>\n",
       "    </tr>\n",
       "    <tr>\n",
       "      <th>2018-01-08</th>\n",
       "      <td>67.403999</td>\n",
       "      <td>63.099998</td>\n",
       "      <td>63.200001</td>\n",
       "      <td>67.281998</td>\n",
       "      <td>49297000.0</td>\n",
       "      <td>67.281998</td>\n",
       "    </tr>\n",
       "  </tbody>\n",
       "</table>\n",
       "</div>"
      ],
      "text/plain": [
       "                 High        Low       Open      Close      Volume  Adj Close\n",
       "Date                                                                         \n",
       "2018-01-02  64.421997  62.200001  62.400002  64.106003  21761000.0  64.106003\n",
       "2018-01-03  65.050003  63.110001  64.199997  63.450001  22607500.0  63.450001\n",
       "2018-01-04  63.709999  61.136002  62.574001  62.924000  49731500.0  62.924000\n",
       "2018-01-05  63.448002  62.400002  63.324001  63.316002  22956000.0  63.316002\n",
       "2018-01-08  67.403999  63.099998  63.200001  67.281998  49297000.0  67.281998"
      ]
     },
     "execution_count": 2,
     "metadata": {},
     "output_type": "execute_result"
    }
   ],
   "source": [
    "df = web.DataReader(\"TSLA\", 'yahoo', \"2018-01-01\")\n",
    "df.head()"
   ]
  },
  {
   "cell_type": "code",
   "execution_count": 13,
   "metadata": {},
   "outputs": [
    {
     "data": {
      "text/html": [
       "<div>\n",
       "<style scoped>\n",
       "    .dataframe tbody tr th:only-of-type {\n",
       "        vertical-align: middle;\n",
       "    }\n",
       "\n",
       "    .dataframe tbody tr th {\n",
       "        vertical-align: top;\n",
       "    }\n",
       "\n",
       "    .dataframe thead th {\n",
       "        text-align: right;\n",
       "    }\n",
       "</style>\n",
       "<table border=\"1\" class=\"dataframe\">\n",
       "  <thead>\n",
       "    <tr style=\"text-align: right;\">\n",
       "      <th></th>\n",
       "      <th>High</th>\n",
       "      <th>Low</th>\n",
       "      <th>Open</th>\n",
       "      <th>Close</th>\n",
       "      <th>Volume</th>\n",
       "      <th>Adj Close</th>\n",
       "    </tr>\n",
       "    <tr>\n",
       "      <th>Date</th>\n",
       "      <th></th>\n",
       "      <th></th>\n",
       "      <th></th>\n",
       "      <th></th>\n",
       "      <th></th>\n",
       "      <th></th>\n",
       "    </tr>\n",
       "  </thead>\n",
       "  <tbody>\n",
       "    <tr>\n",
       "      <th>2020-10-09</th>\n",
       "      <td>434.589996</td>\n",
       "      <td>426.459991</td>\n",
       "      <td>430.130005</td>\n",
       "      <td>434.000000</td>\n",
       "      <td>28925700.0</td>\n",
       "      <td>434.000000</td>\n",
       "    </tr>\n",
       "    <tr>\n",
       "      <th>2020-10-12</th>\n",
       "      <td>448.739990</td>\n",
       "      <td>438.579987</td>\n",
       "      <td>442.000000</td>\n",
       "      <td>442.299988</td>\n",
       "      <td>38791100.0</td>\n",
       "      <td>442.299988</td>\n",
       "    </tr>\n",
       "    <tr>\n",
       "      <th>2020-10-13</th>\n",
       "      <td>448.890015</td>\n",
       "      <td>436.600006</td>\n",
       "      <td>443.350006</td>\n",
       "      <td>446.649994</td>\n",
       "      <td>34463700.0</td>\n",
       "      <td>446.649994</td>\n",
       "    </tr>\n",
       "    <tr>\n",
       "      <th>2020-10-14</th>\n",
       "      <td>465.899994</td>\n",
       "      <td>447.350006</td>\n",
       "      <td>449.779999</td>\n",
       "      <td>461.299988</td>\n",
       "      <td>48045400.0</td>\n",
       "      <td>461.299988</td>\n",
       "    </tr>\n",
       "    <tr>\n",
       "      <th>2020-10-15</th>\n",
       "      <td>456.570007</td>\n",
       "      <td>442.500000</td>\n",
       "      <td>450.309998</td>\n",
       "      <td>448.880005</td>\n",
       "      <td>35554200.0</td>\n",
       "      <td>448.880005</td>\n",
       "    </tr>\n",
       "  </tbody>\n",
       "</table>\n",
       "</div>"
      ],
      "text/plain": [
       "                  High         Low        Open       Close      Volume  \\\n",
       "Date                                                                     \n",
       "2020-10-09  434.589996  426.459991  430.130005  434.000000  28925700.0   \n",
       "2020-10-12  448.739990  438.579987  442.000000  442.299988  38791100.0   \n",
       "2020-10-13  448.890015  436.600006  443.350006  446.649994  34463700.0   \n",
       "2020-10-14  465.899994  447.350006  449.779999  461.299988  48045400.0   \n",
       "2020-10-15  456.570007  442.500000  450.309998  448.880005  35554200.0   \n",
       "\n",
       "             Adj Close  \n",
       "Date                    \n",
       "2020-10-09  434.000000  \n",
       "2020-10-12  442.299988  \n",
       "2020-10-13  446.649994  \n",
       "2020-10-14  461.299988  \n",
       "2020-10-15  448.880005  "
      ]
     },
     "execution_count": 13,
     "metadata": {},
     "output_type": "execute_result"
    }
   ],
   "source": [
    "df.tail()"
   ]
  },
  {
   "cell_type": "code",
   "execution_count": 14,
   "metadata": {},
   "outputs": [
    {
     "data": {
      "text/html": [
       "<div>\n",
       "<style scoped>\n",
       "    .dataframe tbody tr th:only-of-type {\n",
       "        vertical-align: middle;\n",
       "    }\n",
       "\n",
       "    .dataframe tbody tr th {\n",
       "        vertical-align: top;\n",
       "    }\n",
       "\n",
       "    .dataframe thead th {\n",
       "        text-align: right;\n",
       "    }\n",
       "</style>\n",
       "<table border=\"1\" class=\"dataframe\">\n",
       "  <thead>\n",
       "    <tr style=\"text-align: right;\">\n",
       "      <th></th>\n",
       "      <th>High</th>\n",
       "      <th>Low</th>\n",
       "      <th>Open</th>\n",
       "      <th>Close</th>\n",
       "      <th>Volume</th>\n",
       "      <th>Adj Close</th>\n",
       "    </tr>\n",
       "    <tr>\n",
       "      <th>Date</th>\n",
       "      <th></th>\n",
       "      <th></th>\n",
       "      <th></th>\n",
       "      <th></th>\n",
       "      <th></th>\n",
       "      <th></th>\n",
       "    </tr>\n",
       "  </thead>\n",
       "  <tbody>\n",
       "    <tr>\n",
       "      <th>2019-12-02</th>\n",
       "      <td>67.276001</td>\n",
       "      <td>65.737999</td>\n",
       "      <td>65.879997</td>\n",
       "      <td>66.973999</td>\n",
       "      <td>30372500.0</td>\n",
       "      <td>66.973999</td>\n",
       "    </tr>\n",
       "    <tr>\n",
       "      <th>2019-12-03</th>\n",
       "      <td>67.582001</td>\n",
       "      <td>66.438004</td>\n",
       "      <td>66.524002</td>\n",
       "      <td>67.239998</td>\n",
       "      <td>32868500.0</td>\n",
       "      <td>67.239998</td>\n",
       "    </tr>\n",
       "    <tr>\n",
       "      <th>2019-12-04</th>\n",
       "      <td>67.571999</td>\n",
       "      <td>66.570000</td>\n",
       "      <td>67.550003</td>\n",
       "      <td>66.606003</td>\n",
       "      <td>27665000.0</td>\n",
       "      <td>66.606003</td>\n",
       "    </tr>\n",
       "    <tr>\n",
       "      <th>2019-12-05</th>\n",
       "      <td>66.884003</td>\n",
       "      <td>65.449997</td>\n",
       "      <td>66.566002</td>\n",
       "      <td>66.073997</td>\n",
       "      <td>18623000.0</td>\n",
       "      <td>66.073997</td>\n",
       "    </tr>\n",
       "    <tr>\n",
       "      <th>2019-12-06</th>\n",
       "      <td>67.772003</td>\n",
       "      <td>66.954002</td>\n",
       "      <td>67.000000</td>\n",
       "      <td>67.178001</td>\n",
       "      <td>38062000.0</td>\n",
       "      <td>67.178001</td>\n",
       "    </tr>\n",
       "    <tr>\n",
       "      <th>2019-12-09</th>\n",
       "      <td>68.889999</td>\n",
       "      <td>67.015999</td>\n",
       "      <td>67.318001</td>\n",
       "      <td>67.905998</td>\n",
       "      <td>45115500.0</td>\n",
       "      <td>67.905998</td>\n",
       "    </tr>\n",
       "    <tr>\n",
       "      <th>2019-12-10</th>\n",
       "      <td>70.146004</td>\n",
       "      <td>67.862000</td>\n",
       "      <td>67.991997</td>\n",
       "      <td>69.767998</td>\n",
       "      <td>44141500.0</td>\n",
       "      <td>69.767998</td>\n",
       "    </tr>\n",
       "    <tr>\n",
       "      <th>2019-12-11</th>\n",
       "      <td>71.438004</td>\n",
       "      <td>70.218002</td>\n",
       "      <td>70.375999</td>\n",
       "      <td>70.540001</td>\n",
       "      <td>34489000.0</td>\n",
       "      <td>70.540001</td>\n",
       "    </tr>\n",
       "    <tr>\n",
       "      <th>2019-12-12</th>\n",
       "      <td>72.547997</td>\n",
       "      <td>70.646004</td>\n",
       "      <td>70.984001</td>\n",
       "      <td>71.935997</td>\n",
       "      <td>38819500.0</td>\n",
       "      <td>71.935997</td>\n",
       "    </tr>\n",
       "    <tr>\n",
       "      <th>2019-12-13</th>\n",
       "      <td>73.042000</td>\n",
       "      <td>70.928001</td>\n",
       "      <td>72.209999</td>\n",
       "      <td>71.678001</td>\n",
       "      <td>32854500.0</td>\n",
       "      <td>71.678001</td>\n",
       "    </tr>\n",
       "    <tr>\n",
       "      <th>2019-12-16</th>\n",
       "      <td>76.722000</td>\n",
       "      <td>72.500000</td>\n",
       "      <td>72.510002</td>\n",
       "      <td>76.300003</td>\n",
       "      <td>90871000.0</td>\n",
       "      <td>76.300003</td>\n",
       "    </tr>\n",
       "    <tr>\n",
       "      <th>2019-12-17</th>\n",
       "      <td>77.099998</td>\n",
       "      <td>75.180000</td>\n",
       "      <td>75.797997</td>\n",
       "      <td>75.797997</td>\n",
       "      <td>42484000.0</td>\n",
       "      <td>75.797997</td>\n",
       "    </tr>\n",
       "    <tr>\n",
       "      <th>2019-12-18</th>\n",
       "      <td>79.043999</td>\n",
       "      <td>76.115997</td>\n",
       "      <td>76.125999</td>\n",
       "      <td>78.629997</td>\n",
       "      <td>70605000.0</td>\n",
       "      <td>78.629997</td>\n",
       "    </tr>\n",
       "    <tr>\n",
       "      <th>2019-12-19</th>\n",
       "      <td>81.370003</td>\n",
       "      <td>79.300003</td>\n",
       "      <td>79.463997</td>\n",
       "      <td>80.807999</td>\n",
       "      <td>90535500.0</td>\n",
       "      <td>80.807999</td>\n",
       "    </tr>\n",
       "    <tr>\n",
       "      <th>2019-12-20</th>\n",
       "      <td>82.599998</td>\n",
       "      <td>80.038002</td>\n",
       "      <td>82.057999</td>\n",
       "      <td>81.117996</td>\n",
       "      <td>73763500.0</td>\n",
       "      <td>81.117996</td>\n",
       "    </tr>\n",
       "    <tr>\n",
       "      <th>2019-12-23</th>\n",
       "      <td>84.402000</td>\n",
       "      <td>82.000000</td>\n",
       "      <td>82.356003</td>\n",
       "      <td>83.844002</td>\n",
       "      <td>66598000.0</td>\n",
       "      <td>83.844002</td>\n",
       "    </tr>\n",
       "    <tr>\n",
       "      <th>2019-12-24</th>\n",
       "      <td>85.094002</td>\n",
       "      <td>82.538002</td>\n",
       "      <td>83.671997</td>\n",
       "      <td>85.050003</td>\n",
       "      <td>40273500.0</td>\n",
       "      <td>85.050003</td>\n",
       "    </tr>\n",
       "    <tr>\n",
       "      <th>2019-12-26</th>\n",
       "      <td>86.695999</td>\n",
       "      <td>85.269997</td>\n",
       "      <td>85.582001</td>\n",
       "      <td>86.188004</td>\n",
       "      <td>53169500.0</td>\n",
       "      <td>86.188004</td>\n",
       "    </tr>\n",
       "    <tr>\n",
       "      <th>2019-12-27</th>\n",
       "      <td>87.061996</td>\n",
       "      <td>85.222000</td>\n",
       "      <td>87.000000</td>\n",
       "      <td>86.075996</td>\n",
       "      <td>49728500.0</td>\n",
       "      <td>86.075996</td>\n",
       "    </tr>\n",
       "    <tr>\n",
       "      <th>2019-12-30</th>\n",
       "      <td>85.800003</td>\n",
       "      <td>81.851997</td>\n",
       "      <td>85.758003</td>\n",
       "      <td>82.940002</td>\n",
       "      <td>62932000.0</td>\n",
       "      <td>82.940002</td>\n",
       "    </tr>\n",
       "    <tr>\n",
       "      <th>2019-12-31</th>\n",
       "      <td>84.258003</td>\n",
       "      <td>80.416000</td>\n",
       "      <td>81.000000</td>\n",
       "      <td>83.666000</td>\n",
       "      <td>51428500.0</td>\n",
       "      <td>83.666000</td>\n",
       "    </tr>\n",
       "  </tbody>\n",
       "</table>\n",
       "</div>"
      ],
      "text/plain": [
       "                 High        Low       Open      Close      Volume  Adj Close\n",
       "Date                                                                         \n",
       "2019-12-02  67.276001  65.737999  65.879997  66.973999  30372500.0  66.973999\n",
       "2019-12-03  67.582001  66.438004  66.524002  67.239998  32868500.0  67.239998\n",
       "2019-12-04  67.571999  66.570000  67.550003  66.606003  27665000.0  66.606003\n",
       "2019-12-05  66.884003  65.449997  66.566002  66.073997  18623000.0  66.073997\n",
       "2019-12-06  67.772003  66.954002  67.000000  67.178001  38062000.0  67.178001\n",
       "2019-12-09  68.889999  67.015999  67.318001  67.905998  45115500.0  67.905998\n",
       "2019-12-10  70.146004  67.862000  67.991997  69.767998  44141500.0  69.767998\n",
       "2019-12-11  71.438004  70.218002  70.375999  70.540001  34489000.0  70.540001\n",
       "2019-12-12  72.547997  70.646004  70.984001  71.935997  38819500.0  71.935997\n",
       "2019-12-13  73.042000  70.928001  72.209999  71.678001  32854500.0  71.678001\n",
       "2019-12-16  76.722000  72.500000  72.510002  76.300003  90871000.0  76.300003\n",
       "2019-12-17  77.099998  75.180000  75.797997  75.797997  42484000.0  75.797997\n",
       "2019-12-18  79.043999  76.115997  76.125999  78.629997  70605000.0  78.629997\n",
       "2019-12-19  81.370003  79.300003  79.463997  80.807999  90535500.0  80.807999\n",
       "2019-12-20  82.599998  80.038002  82.057999  81.117996  73763500.0  81.117996\n",
       "2019-12-23  84.402000  82.000000  82.356003  83.844002  66598000.0  83.844002\n",
       "2019-12-24  85.094002  82.538002  83.671997  85.050003  40273500.0  85.050003\n",
       "2019-12-26  86.695999  85.269997  85.582001  86.188004  53169500.0  86.188004\n",
       "2019-12-27  87.061996  85.222000  87.000000  86.075996  49728500.0  86.075996\n",
       "2019-12-30  85.800003  81.851997  85.758003  82.940002  62932000.0  82.940002\n",
       "2019-12-31  84.258003  80.416000  81.000000  83.666000  51428500.0  83.666000"
      ]
     },
     "execution_count": 14,
     "metadata": {},
     "output_type": "execute_result"
    }
   ],
   "source": [
    "df.loc['2019-12']"
   ]
  },
  {
   "cell_type": "code",
   "execution_count": 15,
   "metadata": {},
   "outputs": [
    {
     "data": {
      "text/plain": [
       "<matplotlib.axes._subplots.AxesSubplot at 0x1a8c71aecc0>"
      ]
     },
     "execution_count": 15,
     "metadata": {},
     "output_type": "execute_result"
    },
    {
     "data": {
      "image/png": "[encoded data removed]",
      "text/plain": [
       "<Figure size 432x288 with 1 Axes>"
      ]
     },
     "metadata": {
      "needs_background": "light"
     },
     "output_type": "display_data"
    }
   ],
   "source": [
    "df.loc['2019-12'].plot()"
   ]
  },
  {
   "cell_type": "code",
   "execution_count": 16,
   "metadata": {},
   "outputs": [
    {
     "data": {
      "text/plain": [
       "<matplotlib.axes._subplots.AxesSubplot at 0x1a8c746d7b8>"
      ]
     },
     "execution_count": 16,
     "metadata": {},
     "output_type": "execute_result"
    },
    {
     "data": {
      "image/png": "[encoded data removed]",
      "text/plain": [
       "<Figure size 432x288 with 1 Axes>"
      ]
     },
     "metadata": {
      "needs_background": "light"
     },
     "output_type": "display_data"
    }
   ],
   "source": [
    "df['Close'].plot()"
   ]
  },
  {
   "cell_type": "code",
   "execution_count": 17,
   "metadata": {},
   "outputs": [
    {
     "name": "stdout",
     "output_type": "stream",
     "text": [
      "<class 'pandas.core.frame.DataFrame'>\n",
      "DatetimeIndex: 703 entries, 2018-01-02 to 2020-10-15\n",
      "Data columns (total 6 columns):\n",
      "High         703 non-null float64\n",
      "Low          703 non-null float64\n",
      "Open         703 non-null float64\n",
      "Close        703 non-null float64\n",
      "Volume       703 non-null float64\n",
      "Adj Close    703 non-null float64\n",
      "dtypes: float64(6)\n",
      "memory usage: 58.4 KB\n"
     ]
    }
   ],
   "source": [
    "df.info()"
   ]
  },
  {
   "cell_type": "code",
   "execution_count": 18,
   "metadata": {},
   "outputs": [
    {
     "data": {
      "text/plain": [
       "Date\n",
       "2018-01-02    64.106003\n",
       "2018-01-03    63.450001\n",
       "2018-01-04    62.924000\n",
       "2018-01-05    63.316002\n",
       "2018-01-08    67.281998\n",
       "Name: Close, dtype: float64"
      ]
     },
     "execution_count": 18,
     "metadata": {},
     "output_type": "execute_result"
    }
   ],
   "source": [
    "df['Close'][:5]"
   ]
  },
  {
   "cell_type": "code",
   "execution_count": 7,
   "metadata": {},
   "outputs": [
    {
     "data": {
      "text/plain": [
       "<pandas.plotting._core.PlotAccessor object at 0x0000023E8A2B3828>"
      ]
     },
     "execution_count": 7,
     "metadata": {},
     "output_type": "execute_result"
    }
   ],
   "source": [
    "df.loc['2020']['Close'].plot"
   ]
  },
  {
   "cell_type": "markdown",
   "metadata": {},
   "source": [
    "!https://www.pmi.org.tw/?p=5361"
   ]
  },
  {
   "cell_type": "code",
   "execution_count": 6,
   "metadata": {},
   "outputs": [],
   "source": [
    "url = \"https://www.pmi.org.tw/?p=5361\""
   ]
  },
  {
   "cell_type": "code",
   "execution_count": 21,
   "metadata": {},
   "outputs": [],
   "source": [
    "dfs = pd.read_html(url)"
   ]
  },
  {
   "cell_type": "code",
   "execution_count": 22,
   "metadata": {},
   "outputs": [
    {
     "data": {
      "text/html": [
       "<div>\n",
       "<style scoped>\n",
       "    .dataframe tbody tr th:only-of-type {\n",
       "        vertical-align: middle;\n",
       "    }\n",
       "\n",
       "    .dataframe tbody tr th {\n",
       "        vertical-align: top;\n",
       "    }\n",
       "\n",
       "    .dataframe thead th {\n",
       "        text-align: right;\n",
       "    }\n",
       "</style>\n",
       "<table border=\"1\" class=\"dataframe\">\n",
       "  <thead>\n",
       "    <tr style=\"text-align: right;\">\n",
       "      <th></th>\n",
       "      <th>參賽類型</th>\n",
       "      <th>參賽單位名稱</th>\n",
       "      <th>獎項</th>\n",
       "    </tr>\n",
       "  </thead>\n",
       "  <tbody>\n",
       "    <tr>\n",
       "      <th>0</th>\n",
       "      <td>大型企業</td>\n",
       "      <td>中華電信股份有限公司臺灣南區電信分公司</td>\n",
       "      <td>標竿企業獎</td>\n",
       "    </tr>\n",
       "    <tr>\n",
       "      <th>1</th>\n",
       "      <td>大型企業</td>\n",
       "      <td>致伸科技股份有限公司</td>\n",
       "      <td>典範企業獎</td>\n",
       "    </tr>\n",
       "    <tr>\n",
       "      <th>2</th>\n",
       "      <td>大型企業</td>\n",
       "      <td>香港商聯寶電腦有限公司台灣分公司</td>\n",
       "      <td>典範企業獎</td>\n",
       "    </tr>\n",
       "    <tr>\n",
       "      <th>3</th>\n",
       "      <td>中小企業</td>\n",
       "      <td>日昇意定科技顧問有限公司</td>\n",
       "      <td>標竿企業獎</td>\n",
       "    </tr>\n",
       "    <tr>\n",
       "      <th>4</th>\n",
       "      <td>中小企業</td>\n",
       "      <td>湯武生技企業有限公司</td>\n",
       "      <td>典範企業獎</td>\n",
       "    </tr>\n",
       "    <tr>\n",
       "      <th>5</th>\n",
       "      <td>中小企業</td>\n",
       "      <td>漢翔航空工業股份有限公司民用飛機專案處</td>\n",
       "      <td>典範企業獎</td>\n",
       "    </tr>\n",
       "    <tr>\n",
       "      <th>6</th>\n",
       "      <td>中小企業</td>\n",
       "      <td>大同永旭能源股份有限公司</td>\n",
       "      <td>優選</td>\n",
       "    </tr>\n",
       "    <tr>\n",
       "      <th>7</th>\n",
       "      <td>中小企業</td>\n",
       "      <td>協科資訊股份有限公司</td>\n",
       "      <td>優選</td>\n",
       "    </tr>\n",
       "    <tr>\n",
       "      <th>8</th>\n",
       "      <td>政府及法人</td>\n",
       "      <td>屏東縣政府</td>\n",
       "      <td>優選</td>\n",
       "    </tr>\n",
       "  </tbody>\n",
       "</table>\n",
       "</div>"
      ],
      "text/plain": [
       "    參賽類型               參賽單位名稱     獎項\n",
       "0   大型企業  中華電信股份有限公司臺灣南區電信分公司  標竿企業獎\n",
       "1   大型企業           致伸科技股份有限公司  典範企業獎\n",
       "2   大型企業     香港商聯寶電腦有限公司台灣分公司  典範企業獎\n",
       "3   中小企業         日昇意定科技顧問有限公司  標竿企業獎\n",
       "4   中小企業           湯武生技企業有限公司  典範企業獎\n",
       "5   中小企業  漢翔航空工業股份有限公司民用飛機專案處  典範企業獎\n",
       "6   中小企業         大同永旭能源股份有限公司     優選\n",
       "7   中小企業           協科資訊股份有限公司     優選\n",
       "8  政府及法人                屏東縣政府     優選"
      ]
     },
     "execution_count": 22,
     "metadata": {},
     "output_type": "execute_result"
    }
   ],
   "source": [
    "dfs[0]"
   ]
  },
  {
   "cell_type": "code",
   "execution_count": 23,
   "metadata": {},
   "outputs": [],
   "source": [
    "df = pd.DataFrame(dfs[0])\n"
   ]
  },
  {
   "cell_type": "code",
   "execution_count": 24,
   "metadata": {},
   "outputs": [
    {
     "data": {
      "text/html": [
       "<div>\n",
       "<style scoped>\n",
       "    .dataframe tbody tr th:only-of-type {\n",
       "        vertical-align: middle;\n",
       "    }\n",
       "\n",
       "    .dataframe tbody tr th {\n",
       "        vertical-align: top;\n",
       "    }\n",
       "\n",
       "    .dataframe thead th {\n",
       "        text-align: right;\n",
       "    }\n",
       "</style>\n",
       "<table border=\"1\" class=\"dataframe\">\n",
       "  <thead>\n",
       "    <tr style=\"text-align: right;\">\n",
       "      <th></th>\n",
       "      <th>參賽類型</th>\n",
       "      <th>獎項</th>\n",
       "    </tr>\n",
       "  </thead>\n",
       "  <tbody>\n",
       "    <tr>\n",
       "      <th>0</th>\n",
       "      <td>大型企業</td>\n",
       "      <td>標竿企業獎</td>\n",
       "    </tr>\n",
       "    <tr>\n",
       "      <th>1</th>\n",
       "      <td>大型企業</td>\n",
       "      <td>典範企業獎</td>\n",
       "    </tr>\n",
       "    <tr>\n",
       "      <th>2</th>\n",
       "      <td>大型企業</td>\n",
       "      <td>典範企業獎</td>\n",
       "    </tr>\n",
       "    <tr>\n",
       "      <th>3</th>\n",
       "      <td>中小企業</td>\n",
       "      <td>標竿企業獎</td>\n",
       "    </tr>\n",
       "    <tr>\n",
       "      <th>4</th>\n",
       "      <td>中小企業</td>\n",
       "      <td>典範企業獎</td>\n",
       "    </tr>\n",
       "    <tr>\n",
       "      <th>5</th>\n",
       "      <td>中小企業</td>\n",
       "      <td>典範企業獎</td>\n",
       "    </tr>\n",
       "    <tr>\n",
       "      <th>6</th>\n",
       "      <td>中小企業</td>\n",
       "      <td>優選</td>\n",
       "    </tr>\n",
       "    <tr>\n",
       "      <th>7</th>\n",
       "      <td>中小企業</td>\n",
       "      <td>優選</td>\n",
       "    </tr>\n",
       "    <tr>\n",
       "      <th>8</th>\n",
       "      <td>政府及法人</td>\n",
       "      <td>優選</td>\n",
       "    </tr>\n",
       "  </tbody>\n",
       "</table>\n",
       "</div>"
      ],
      "text/plain": [
       "    參賽類型     獎項\n",
       "0   大型企業  標竿企業獎\n",
       "1   大型企業  典範企業獎\n",
       "2   大型企業  典範企業獎\n",
       "3   中小企業  標竿企業獎\n",
       "4   中小企業  典範企業獎\n",
       "5   中小企業  典範企業獎\n",
       "6   中小企業     優選\n",
       "7   中小企業     優選\n",
       "8  政府及法人     優選"
      ]
     },
     "execution_count": 24,
     "metadata": {},
     "output_type": "execute_result"
    }
   ],
   "source": [
    "df[['參賽類型','獎項']]"
   ]
  },
  {
   "cell_type": "code",
   "execution_count": 25,
   "metadata": {},
   "outputs": [
    {
     "data": {
      "text/plain": [
       "參賽類型            大型企業\n",
       "參賽單位名稱    致伸科技股份有限公司\n",
       "獎項             典範企業獎\n",
       "Name: 1, dtype: object"
      ]
     },
     "execution_count": 25,
     "metadata": {},
     "output_type": "execute_result"
    }
   ],
   "source": [
    "df.iloc[1]"
   ]
  },
  {
   "cell_type": "code",
   "execution_count": 26,
   "metadata": {},
   "outputs": [
    {
     "data": {
      "text/html": [
       "<div>\n",
       "<style scoped>\n",
       "    .dataframe tbody tr th:only-of-type {\n",
       "        vertical-align: middle;\n",
       "    }\n",
       "\n",
       "    .dataframe tbody tr th {\n",
       "        vertical-align: top;\n",
       "    }\n",
       "\n",
       "    .dataframe thead th {\n",
       "        text-align: right;\n",
       "    }\n",
       "</style>\n",
       "<table border=\"1\" class=\"dataframe\">\n",
       "  <thead>\n",
       "    <tr style=\"text-align: right;\">\n",
       "      <th></th>\n",
       "      <th>專案經理人姓名</th>\n",
       "      <th>參賽單位名稱</th>\n",
       "      <th>獎項</th>\n",
       "    </tr>\n",
       "  </thead>\n",
       "  <tbody>\n",
       "    <tr>\n",
       "      <th>0</th>\n",
       "      <td>呂炯明</td>\n",
       "      <td>資拓宏宇國際股份有限公司</td>\n",
       "      <td>十專獎</td>\n",
       "    </tr>\n",
       "    <tr>\n",
       "      <th>1</th>\n",
       "      <td>李得元</td>\n",
       "      <td>嘉南藥理大學</td>\n",
       "      <td>十專獎</td>\n",
       "    </tr>\n",
       "    <tr>\n",
       "      <th>2</th>\n",
       "      <td>林慶和</td>\n",
       "      <td>中華電信股份有限公司臺灣南區電信分公司</td>\n",
       "      <td>十專獎</td>\n",
       "    </tr>\n",
       "    <tr>\n",
       "      <th>3</th>\n",
       "      <td>侯里智</td>\n",
       "      <td>香港商聯寶電腦有限公司台灣分公司</td>\n",
       "      <td>十專獎</td>\n",
       "    </tr>\n",
       "    <tr>\n",
       "      <th>4</th>\n",
       "      <td>莊信慧</td>\n",
       "      <td>中華開發金融控股公司</td>\n",
       "      <td>十專獎</td>\n",
       "    </tr>\n",
       "    <tr>\n",
       "      <th>5</th>\n",
       "      <td>郭慶輝</td>\n",
       "      <td>樂高渥克公關廣告活動有限公司</td>\n",
       "      <td>十專獎</td>\n",
       "    </tr>\n",
       "    <tr>\n",
       "      <th>6</th>\n",
       "      <td>陳協良</td>\n",
       "      <td>台灣世曦工程顧問股份有限公司</td>\n",
       "      <td>十專獎</td>\n",
       "    </tr>\n",
       "    <tr>\n",
       "      <th>7</th>\n",
       "      <td>黃俊銘</td>\n",
       "      <td>行政院環境保護署環境監測及資訊處</td>\n",
       "      <td>十專獎</td>\n",
       "    </tr>\n",
       "    <tr>\n",
       "      <th>8</th>\n",
       "      <td>黃遠鵬</td>\n",
       "      <td>麗寶大數據股份有限公司</td>\n",
       "      <td>十專獎</td>\n",
       "    </tr>\n",
       "    <tr>\n",
       "      <th>9</th>\n",
       "      <td>蔡昆男</td>\n",
       "      <td>致伸科技股份有限公司</td>\n",
       "      <td>十專獎</td>\n",
       "    </tr>\n",
       "  </tbody>\n",
       "</table>\n",
       "</div>"
      ],
      "text/plain": [
       "  專案經理人姓名               參賽單位名稱   獎項\n",
       "0     呂炯明         資拓宏宇國際股份有限公司  十專獎\n",
       "1     李得元               嘉南藥理大學  十專獎\n",
       "2     林慶和  中華電信股份有限公司臺灣南區電信分公司  十專獎\n",
       "3     侯里智     香港商聯寶電腦有限公司台灣分公司  十專獎\n",
       "4     莊信慧           中華開發金融控股公司  十專獎\n",
       "5     郭慶輝       樂高渥克公關廣告活動有限公司  十專獎\n",
       "6     陳協良       台灣世曦工程顧問股份有限公司  十專獎\n",
       "7     黃俊銘     行政院環境保護署環境監測及資訊處  十專獎\n",
       "8     黃遠鵬          麗寶大數據股份有限公司  十專獎\n",
       "9     蔡昆男           致伸科技股份有限公司  十專獎"
      ]
     },
     "execution_count": 26,
     "metadata": {},
     "output_type": "execute_result"
    }
   ],
   "source": [
    "dfs[1]"
   ]
  },
  {
   "cell_type": "code",
   "execution_count": 17,
   "metadata": {},
   "outputs": [],
   "source": [
    "import requests\n",
    "url = \"https://ws.ndc.gov.tw/Download.ashx?u=LzAwMS9hZG1pbmlzdHJhdG9yLzEwL3JlbGZpbGUvNTc4MS82MzkyL2VmMWQ4ZjliLTMxOGMtNDFmZC1hNzgzLWVjNGY5MTMwMjRmOC54bHN4&n=5paw6IGe56i%2f6ZmE5Lu25pW45YiXLnhsc3g%3d&icon=..xlsx\""
   ]
  },
  {
   "cell_type": "code",
   "execution_count": 18,
   "metadata": {},
   "outputs": [],
   "source": [
    "r=requests.get(url)"
   ]
  },
  {
   "cell_type": "code",
   "execution_count": 19,
   "metadata": {},
   "outputs": [],
   "source": [
    "with open(\"signal.xlsx\",\"wb\") as f:\n",
    "    f.write(r.content)"
   ]
  },
  {
   "cell_type": "code",
   "execution_count": 20,
   "metadata": {},
   "outputs": [],
   "source": [
    "import pandas as pd"
   ]
  },
  {
   "cell_type": "code",
   "execution_count": 21,
   "metadata": {},
   "outputs": [],
   "source": [
    "dfs = pd.read_excel(\"signal.xlsx\")"
   ]
  },
  {
   "cell_type": "code",
   "execution_count": 22,
   "metadata": {},
   "outputs": [
    {
     "data": {
      "text/html": [
       "<div>\n",
       "<style scoped>\n",
       "    .dataframe tbody tr th:only-of-type {\n",
       "        vertical-align: middle;\n",
       "    }\n",
       "\n",
       "    .dataframe tbody tr th {\n",
       "        vertical-align: top;\n",
       "    }\n",
       "\n",
       "    .dataframe thead th {\n",
       "        text-align: right;\n",
       "    }\n",
       "</style>\n",
       "<table border=\"1\" class=\"dataframe\">\n",
       "  <thead>\n",
       "    <tr style=\"text-align: right;\">\n",
       "      <th></th>\n",
       "      <th>DATE</th>\n",
       "      <th>領先指標綜合指數</th>\n",
       "      <th>領先指標不含趨勢指數</th>\n",
       "      <th>同時指標綜合指數</th>\n",
       "      <th>同時指標不含趨勢指數</th>\n",
       "      <th>落後指標綜合指數</th>\n",
       "      <th>落後指標不含趨勢指數</th>\n",
       "      <th>景氣對策信號綜合分數</th>\n",
       "      <th>景氣對策信號</th>\n",
       "    </tr>\n",
       "  </thead>\n",
       "  <tbody>\n",
       "    <tr>\n",
       "      <th>0</th>\n",
       "      <td>1982-01-01</td>\n",
       "      <td>17.273401</td>\n",
       "      <td>99.989213</td>\n",
       "      <td>18.306357</td>\n",
       "      <td>105.968607</td>\n",
       "      <td>18.041778</td>\n",
       "      <td>104.437056</td>\n",
       "      <td>NaN</td>\n",
       "      <td>NaN</td>\n",
       "    </tr>\n",
       "    <tr>\n",
       "      <th>1</th>\n",
       "      <td>1982-02-01</td>\n",
       "      <td>17.348049</td>\n",
       "      <td>99.574503</td>\n",
       "      <td>18.048192</td>\n",
       "      <td>103.593190</td>\n",
       "      <td>18.450460</td>\n",
       "      <td>105.902128</td>\n",
       "      <td>NaN</td>\n",
       "      <td>NaN</td>\n",
       "    </tr>\n",
       "    <tr>\n",
       "      <th>2</th>\n",
       "      <td>1982-03-01</td>\n",
       "      <td>17.407569</td>\n",
       "      <td>99.073279</td>\n",
       "      <td>17.835412</td>\n",
       "      <td>101.508296</td>\n",
       "      <td>18.797126</td>\n",
       "      <td>106.981791</td>\n",
       "      <td>NaN</td>\n",
       "      <td>NaN</td>\n",
       "    </tr>\n",
       "    <tr>\n",
       "      <th>3</th>\n",
       "      <td>1982-04-01</td>\n",
       "      <td>17.418006</td>\n",
       "      <td>98.295641</td>\n",
       "      <td>17.666086</td>\n",
       "      <td>99.695643</td>\n",
       "      <td>19.042240</td>\n",
       "      <td>107.461742</td>\n",
       "      <td>NaN</td>\n",
       "      <td>NaN</td>\n",
       "    </tr>\n",
       "    <tr>\n",
       "      <th>4</th>\n",
       "      <td>1982-05-01</td>\n",
       "      <td>17.393409</td>\n",
       "      <td>97.326654</td>\n",
       "      <td>17.537617</td>\n",
       "      <td>98.133584</td>\n",
       "      <td>19.168322</td>\n",
       "      <td>107.258368</td>\n",
       "      <td>NaN</td>\n",
       "      <td>NaN</td>\n",
       "    </tr>\n",
       "  </tbody>\n",
       "</table>\n",
       "</div>"
      ],
      "text/plain": [
       "        DATE   領先指標綜合指數  領先指標不含趨勢指數   同時指標綜合指數  同時指標不含趨勢指數   落後指標綜合指數  \\\n",
       "0 1982-01-01  17.273401   99.989213  18.306357  105.968607  18.041778   \n",
       "1 1982-02-01  17.348049   99.574503  18.048192  103.593190  18.450460   \n",
       "2 1982-03-01  17.407569   99.073279  17.835412  101.508296  18.797126   \n",
       "3 1982-04-01  17.418006   98.295641  17.666086   99.695643  19.042240   \n",
       "4 1982-05-01  17.393409   97.326654  17.537617   98.133584  19.168322   \n",
       "\n",
       "   落後指標不含趨勢指數  景氣對策信號綜合分數 景氣對策信號  \n",
       "0  104.437056         NaN    NaN  \n",
       "1  105.902128         NaN    NaN  \n",
       "2  106.981791         NaN    NaN  \n",
       "3  107.461742         NaN    NaN  \n",
       "4  107.258368         NaN    NaN  "
      ]
     },
     "execution_count": 22,
     "metadata": {},
     "output_type": "execute_result"
    }
   ],
   "source": [
    "dfs.head()"
   ]
  },
  {
   "cell_type": "markdown",
   "metadata": {},
   "source": [
    "# 台積電"
   ]
  },
  {
   "cell_type": "code",
   "execution_count": 10,
   "metadata": {},
   "outputs": [
    {
     "data": {
      "text/plain": [
       "<matplotlib.axes._subplots.AxesSubplot at 0x23e8c7732b0>"
      ]
     },
     "execution_count": 10,
     "metadata": {},
     "output_type": "execute_result"
    },
    {
     "data": {
      "image/png": "[encoded data removed]",
      "text/plain": [
       "<Figure size 432x288 with 1 Axes>"
      ]
     },
     "metadata": {
      "needs_background": "light"
     },
     "output_type": "display_data"
    }
   ],
   "source": [
    "df = web.DataReader(\"2330.tw\", 'yahoo', \"2019-01-01\")\n",
    "df.head()\n",
    "df['Adj Close'].plot()\n"
   ]
  },
  {
   "cell_type": "code",
   "execution_count": 28,
   "metadata": {},
   "outputs": [
    {
     "data": {
      "text/html": [
       "<div>\n",
       "<style scoped>\n",
       "    .dataframe tbody tr th:only-of-type {\n",
       "        vertical-align: middle;\n",
       "    }\n",
       "\n",
       "    .dataframe tbody tr th {\n",
       "        vertical-align: top;\n",
       "    }\n",
       "\n",
       "    .dataframe thead th {\n",
       "        text-align: right;\n",
       "    }\n",
       "</style>\n",
       "<table border=\"1\" class=\"dataframe\">\n",
       "  <thead>\n",
       "    <tr style=\"text-align: right;\">\n",
       "      <th></th>\n",
       "      <th>High</th>\n",
       "      <th>Low</th>\n",
       "      <th>Open</th>\n",
       "      <th>Close</th>\n",
       "      <th>Volume</th>\n",
       "      <th>Adj Close</th>\n",
       "    </tr>\n",
       "    <tr>\n",
       "      <th>Date</th>\n",
       "      <th></th>\n",
       "      <th></th>\n",
       "      <th></th>\n",
       "      <th></th>\n",
       "      <th></th>\n",
       "      <th></th>\n",
       "    </tr>\n",
       "  </thead>\n",
       "  <tbody>\n",
       "    <tr>\n",
       "      <th>2020-10-12</th>\n",
       "      <td>462.0</td>\n",
       "      <td>457.5</td>\n",
       "      <td>458.0</td>\n",
       "      <td>460.0</td>\n",
       "      <td>64719223.0</td>\n",
       "      <td>460.0</td>\n",
       "    </tr>\n",
       "    <tr>\n",
       "      <th>2020-10-13</th>\n",
       "      <td>465.0</td>\n",
       "      <td>456.5</td>\n",
       "      <td>465.0</td>\n",
       "      <td>462.0</td>\n",
       "      <td>45750738.0</td>\n",
       "      <td>462.0</td>\n",
       "    </tr>\n",
       "    <tr>\n",
       "      <th>2020-10-14</th>\n",
       "      <td>461.0</td>\n",
       "      <td>457.0</td>\n",
       "      <td>460.5</td>\n",
       "      <td>459.0</td>\n",
       "      <td>40809241.0</td>\n",
       "      <td>459.0</td>\n",
       "    </tr>\n",
       "    <tr>\n",
       "      <th>2020-10-15</th>\n",
       "      <td>456.5</td>\n",
       "      <td>450.0</td>\n",
       "      <td>456.0</td>\n",
       "      <td>453.0</td>\n",
       "      <td>47775028.0</td>\n",
       "      <td>453.0</td>\n",
       "    </tr>\n",
       "    <tr>\n",
       "      <th>2020-10-16</th>\n",
       "      <td>456.0</td>\n",
       "      <td>448.5</td>\n",
       "      <td>451.0</td>\n",
       "      <td>449.0</td>\n",
       "      <td>46526000.0</td>\n",
       "      <td>449.0</td>\n",
       "    </tr>\n",
       "  </tbody>\n",
       "</table>\n",
       "</div>"
      ],
      "text/plain": [
       "             High    Low   Open  Close      Volume  Adj Close\n",
       "Date                                                         \n",
       "2020-10-12  462.0  457.5  458.0  460.0  64719223.0      460.0\n",
       "2020-10-13  465.0  456.5  465.0  462.0  45750738.0      462.0\n",
       "2020-10-14  461.0  457.0  460.5  459.0  40809241.0      459.0\n",
       "2020-10-15  456.5  450.0  456.0  453.0  47775028.0      453.0\n",
       "2020-10-16  456.0  448.5  451.0  449.0  46526000.0      449.0"
      ]
     },
     "execution_count": 28,
     "metadata": {},
     "output_type": "execute_result"
    }
   ],
   "source": [
    "df.tail()"
   ]
  },
  {
   "cell_type": "code",
   "execution_count": 34,
   "metadata": {},
   "outputs": [],
   "source": [
    "import matplotlib.pyplot as plt"
   ]
  },
  {
   "cell_type": "code",
   "execution_count": 43,
   "metadata": {},
   "outputs": [
    {
     "data": {
      "text/plain": [
       "High         2.265000e+02\n",
       "Low          2.190000e+02\n",
       "Open         2.265000e+02\n",
       "Close        2.195000e+02\n",
       "Volume       3.290048e+07\n",
       "Adj Close    2.045318e+02\n",
       "Name: 2019-01-02 00:00:00, dtype: float64"
      ]
     },
     "execution_count": 43,
     "metadata": {},
     "output_type": "execute_result"
    }
   ],
   "source": [
    "df.iloc[0]"
   ]
  },
  {
   "cell_type": "code",
   "execution_count": 77,
   "metadata": {},
   "outputs": [
    {
     "data": {
      "text/plain": [
       "[<matplotlib.lines.Line2D at 0x1a8cf54bb00>]"
      ]
     },
     "execution_count": 77,
     "metadata": {},
     "output_type": "execute_result"
    },
    {
     "data": {
      "image/png": "[encoded data removed]",
      "text/plain": [
       "<Figure size 432x288 with 2 Axes>"
      ]
     },
     "metadata": {
      "needs_background": "light"
     },
     "output_type": "display_data"
    }
   ],
   "source": [
    "fig = plt.figure()\n",
    "ax1 = fig.add_axes([0, 0, 1, 1])\n",
    "ax1.plot(df['Close'])\n",
    "ax2 = fig.add_axes([0.06, 0.65, 0.7, 0.3])\n",
    "ax2.plot(df.loc['2020-10']['Close'])"
   ]
  },
  {
   "cell_type": "code",
   "execution_count": 25,
   "metadata": {},
   "outputs": [
    {
     "data": {
      "text/plain": [
       "462.0"
      ]
     },
     "execution_count": 25,
     "metadata": {},
     "output_type": "execute_result"
    }
   ],
   "source": [
    "df['Close']['2020-10']\n",
    "# df['Close']['2020-10'].max()"
   ]
  },
  {
   "cell_type": "markdown",
   "metadata": {},
   "source": [
    "# 2020年購買獲利率"
   ]
  },
  {
   "cell_type": "code",
   "execution_count": 16,
   "metadata": {},
   "outputs": [
    {
     "data": {
      "text/plain": [
       "Date\n",
       "2020-01-02    339.0\n",
       "2020-01-03    339.5\n",
       "2020-01-06    332.0\n",
       "2020-01-07    329.5\n",
       "2020-01-08    329.5\n",
       "              ...  \n",
       "2020-10-15    453.0\n",
       "2020-10-16    449.0\n",
       "2020-10-19    457.5\n",
       "2020-10-20    451.0\n",
       "2020-10-21    453.0\n",
       "Name: Close, Length: 194, dtype: float64"
      ]
     },
     "execution_count": 16,
     "metadata": {},
     "output_type": "execute_result"
    }
   ],
   "source": [
    "df['Close']['2020']"
   ]
  },
  {
   "cell_type": "code",
   "execution_count": 18,
   "metadata": {},
   "outputs": [
    {
     "data": {
      "text/plain": [
       "1.336283185840708"
      ]
     },
     "execution_count": 18,
     "metadata": {},
     "output_type": "execute_result"
    }
   ],
   "source": [
    "df['Close']['2020'][-1]/df['Close']['2020'][0]"
   ]
  },
  {
   "cell_type": "markdown",
   "metadata": {},
   "source": [
    "# 特定日期購買獲利率"
   ]
  },
  {
   "cell_type": "code",
   "execution_count": 52,
   "metadata": {},
   "outputs": [
    {
     "data": {
      "text/plain": [
       "460.0"
      ]
     },
     "execution_count": 52,
     "metadata": {},
     "output_type": "execute_result"
    }
   ],
   "source": [
    "df.loc['2020-10-12']['Close']"
   ]
  },
  {
   "cell_type": "code",
   "execution_count": 53,
   "metadata": {},
   "outputs": [
    {
     "data": {
      "text/plain": [
       "459.0"
      ]
     },
     "execution_count": 53,
     "metadata": {},
     "output_type": "execute_result"
    }
   ],
   "source": [
    "df.iloc[-1]['Close']"
   ]
  },
  {
   "cell_type": "code",
   "execution_count": 54,
   "metadata": {},
   "outputs": [
    {
     "data": {
      "text/plain": [
       "0.9978260869565218"
      ]
     },
     "execution_count": 54,
     "metadata": {},
     "output_type": "execute_result"
    }
   ],
   "source": [
    "df.iloc[-1]['Close']/df.loc['2020-10-12']['Close']"
   ]
  },
  {
   "cell_type": "markdown",
   "metadata": {},
   "source": [
    "# 投資高手購買獲利率"
   ]
  },
  {
   "cell_type": "code",
   "execution_count": 55,
   "metadata": {},
   "outputs": [
    {
     "data": {
      "text/plain": [
       "2.2211538461538463"
      ]
     },
     "execution_count": 55,
     "metadata": {},
     "output_type": "execute_result"
    }
   ],
   "source": [
    "df['Close'].max()/df['Close'].min()"
   ]
  },
  {
   "cell_type": "code",
   "execution_count": 19,
   "metadata": {},
   "outputs": [
    {
     "data": {
      "text/plain": [
       "462.0"
      ]
     },
     "execution_count": 19,
     "metadata": {},
     "output_type": "execute_result"
    }
   ],
   "source": [
    "df['Close'].max()"
   ]
  },
  {
   "cell_type": "markdown",
   "metadata": {},
   "source": [
    "# 年初購買獲利率"
   ]
  },
  {
   "cell_type": "code",
   "execution_count": 56,
   "metadata": {},
   "outputs": [
    {
     "data": {
      "text/plain": [
       "2.091116173120729"
      ]
     },
     "execution_count": 56,
     "metadata": {},
     "output_type": "execute_result"
    }
   ],
   "source": [
    "df.iloc[-1]['Close']/df.iloc[0]['Close']"
   ]
  },
  {
   "cell_type": "code",
   "execution_count": 57,
   "metadata": {},
   "outputs": [
    {
     "data": {
      "text/plain": [
       "459.0"
      ]
     },
     "execution_count": 57,
     "metadata": {},
     "output_type": "execute_result"
    }
   ],
   "source": [
    "df.iloc[-1]['Close']"
   ]
  },
  {
   "cell_type": "code",
   "execution_count": 58,
   "metadata": {},
   "outputs": [
    {
     "data": {
      "text/plain": [
       "219.5"
      ]
     },
     "execution_count": 58,
     "metadata": {},
     "output_type": "execute_result"
    }
   ],
   "source": [
    "df.iloc[0]['Close']"
   ]
  },
  {
   "cell_type": "code",
   "execution_count": null,
   "metadata": {},
   "outputs": [],
   "source": []
  },
  {
   "cell_type": "code",
   "execution_count": null,
   "metadata": {},
   "outputs": [],
   "source": []
  }
 ],
 "metadata": {
  "kernelspec": {
   "display_name": "Python 3",
   "language": "python",
   "name": "python3"
  },
  "language_info": {
   "codemirror_mode": {
    "name": "ipython",
    "version": 3
   },
   "file_extension": ".py",
   "mimetype": "text/x-python",
   "name": "python",
   "nbconvert_exporter": "python",
   "pygments_lexer": "ipython3",
   "version": "3.5.4"
  }
 },
 "nbformat": 4,
 "nbformat_minor": 4
}
