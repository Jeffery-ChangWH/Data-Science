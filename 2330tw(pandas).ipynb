{
 "cells": [
  {
   "cell_type": "code",
   "execution_count": 2,
   "metadata": {},
   "outputs": [],
   "source": [
    "import pandas as pd\n",
    "import numpy as np\n",
    "%matplotlib inline"
   ]
  },
  {
   "cell_type": "code",
   "execution_count": 3,
   "metadata": {},
   "outputs": [],
   "source": [
    "url = \"https://www.pmi.org.tw/?p=5361\""
   ]
  },
  {
   "cell_type": "code",
   "execution_count": 9,
   "metadata": {},
   "outputs": [],
   "source": [
    "dfs = pd.read_html(url)"
   ]
  },
  {
   "cell_type": "code",
   "execution_count": 24,
   "metadata": {},
   "outputs": [
    {
     "data": {
      "text/html": [
       "<div>\n",
       "<style scoped>\n",
       "    .dataframe tbody tr th:only-of-type {\n",
       "        vertical-align: middle;\n",
       "    }\n",
       "\n",
       "    .dataframe tbody tr th {\n",
       "        vertical-align: top;\n",
       "    }\n",
       "\n",
       "    .dataframe thead th {\n",
       "        text-align: right;\n",
       "    }\n",
       "</style>\n",
       "<table border=\"1\" class=\"dataframe\">\n",
       "  <thead>\n",
       "    <tr style=\"text-align: right;\">\n",
       "      <th></th>\n",
       "      <th>參賽類型</th>\n",
       "      <th>參賽單位名稱</th>\n",
       "      <th>獎項</th>\n",
       "    </tr>\n",
       "  </thead>\n",
       "  <tbody>\n",
       "    <tr>\n",
       "      <th>0</th>\n",
       "      <td>大型企業</td>\n",
       "      <td>中華電信股份有限公司臺灣南區電信分公司</td>\n",
       "      <td>標竿企業獎</td>\n",
       "    </tr>\n",
       "    <tr>\n",
       "      <th>1</th>\n",
       "      <td>大型企業</td>\n",
       "      <td>致伸科技股份有限公司</td>\n",
       "      <td>典範企業獎</td>\n",
       "    </tr>\n",
       "    <tr>\n",
       "      <th>2</th>\n",
       "      <td>大型企業</td>\n",
       "      <td>香港商聯寶電腦有限公司台灣分公司</td>\n",
       "      <td>典範企業獎</td>\n",
       "    </tr>\n",
       "    <tr>\n",
       "      <th>3</th>\n",
       "      <td>中小企業</td>\n",
       "      <td>日昇意定科技顧問有限公司</td>\n",
       "      <td>標竿企業獎</td>\n",
       "    </tr>\n",
       "    <tr>\n",
       "      <th>4</th>\n",
       "      <td>中小企業</td>\n",
       "      <td>湯武生技企業有限公司</td>\n",
       "      <td>典範企業獎</td>\n",
       "    </tr>\n",
       "    <tr>\n",
       "      <th>5</th>\n",
       "      <td>中小企業</td>\n",
       "      <td>漢翔航空工業股份有限公司民用飛機專案處</td>\n",
       "      <td>典範企業獎</td>\n",
       "    </tr>\n",
       "    <tr>\n",
       "      <th>6</th>\n",
       "      <td>中小企業</td>\n",
       "      <td>大同永旭能源股份有限公司</td>\n",
       "      <td>優選</td>\n",
       "    </tr>\n",
       "    <tr>\n",
       "      <th>7</th>\n",
       "      <td>中小企業</td>\n",
       "      <td>協科資訊股份有限公司</td>\n",
       "      <td>優選</td>\n",
       "    </tr>\n",
       "    <tr>\n",
       "      <th>8</th>\n",
       "      <td>政府及法人</td>\n",
       "      <td>屏東縣政府</td>\n",
       "      <td>優選</td>\n",
       "    </tr>\n",
       "  </tbody>\n",
       "</table>\n",
       "</div>"
      ],
      "text/plain": [
       "    參賽類型               參賽單位名稱     獎項\n",
       "0   大型企業  中華電信股份有限公司臺灣南區電信分公司  標竿企業獎\n",
       "1   大型企業           致伸科技股份有限公司  典範企業獎\n",
       "2   大型企業     香港商聯寶電腦有限公司台灣分公司  典範企業獎\n",
       "3   中小企業         日昇意定科技顧問有限公司  標竿企業獎\n",
       "4   中小企業           湯武生技企業有限公司  典範企業獎\n",
       "5   中小企業  漢翔航空工業股份有限公司民用飛機專案處  典範企業獎\n",
       "6   中小企業         大同永旭能源股份有限公司     優選\n",
       "7   中小企業           協科資訊股份有限公司     優選\n",
       "8  政府及法人                屏東縣政府     優選"
      ]
     },
     "execution_count": 24,
     "metadata": {},
     "output_type": "execute_result"
    }
   ],
   "source": [
    "dfs[0]"
   ]
  },
  {
   "cell_type": "code",
   "execution_count": 25,
   "metadata": {},
   "outputs": [
    {
     "data": {
      "text/html": [
       "<div>\n",
       "<style scoped>\n",
       "    .dataframe tbody tr th:only-of-type {\n",
       "        vertical-align: middle;\n",
       "    }\n",
       "\n",
       "    .dataframe tbody tr th {\n",
       "        vertical-align: top;\n",
       "    }\n",
       "\n",
       "    .dataframe thead th {\n",
       "        text-align: right;\n",
       "    }\n",
       "</style>\n",
       "<table border=\"1\" class=\"dataframe\">\n",
       "  <thead>\n",
       "    <tr style=\"text-align: right;\">\n",
       "      <th></th>\n",
       "      <th>專案經理人姓名</th>\n",
       "      <th>參賽單位名稱</th>\n",
       "      <th>獎項</th>\n",
       "    </tr>\n",
       "  </thead>\n",
       "  <tbody>\n",
       "    <tr>\n",
       "      <th>0</th>\n",
       "      <td>呂炯明</td>\n",
       "      <td>資拓宏宇國際股份有限公司</td>\n",
       "      <td>十專獎</td>\n",
       "    </tr>\n",
       "    <tr>\n",
       "      <th>1</th>\n",
       "      <td>李得元</td>\n",
       "      <td>嘉南藥理大學</td>\n",
       "      <td>十專獎</td>\n",
       "    </tr>\n",
       "    <tr>\n",
       "      <th>2</th>\n",
       "      <td>林慶和</td>\n",
       "      <td>中華電信股份有限公司臺灣南區電信分公司</td>\n",
       "      <td>十專獎</td>\n",
       "    </tr>\n",
       "    <tr>\n",
       "      <th>3</th>\n",
       "      <td>侯里智</td>\n",
       "      <td>香港商聯寶電腦有限公司台灣分公司</td>\n",
       "      <td>十專獎</td>\n",
       "    </tr>\n",
       "    <tr>\n",
       "      <th>4</th>\n",
       "      <td>莊信慧</td>\n",
       "      <td>中華開發金融控股公司</td>\n",
       "      <td>十專獎</td>\n",
       "    </tr>\n",
       "    <tr>\n",
       "      <th>5</th>\n",
       "      <td>郭慶輝</td>\n",
       "      <td>樂高渥克公關廣告活動有限公司</td>\n",
       "      <td>十專獎</td>\n",
       "    </tr>\n",
       "    <tr>\n",
       "      <th>6</th>\n",
       "      <td>陳協良</td>\n",
       "      <td>台灣世曦工程顧問股份有限公司</td>\n",
       "      <td>十專獎</td>\n",
       "    </tr>\n",
       "    <tr>\n",
       "      <th>7</th>\n",
       "      <td>黃俊銘</td>\n",
       "      <td>行政院環境保護署環境監測及資訊處</td>\n",
       "      <td>十專獎</td>\n",
       "    </tr>\n",
       "    <tr>\n",
       "      <th>8</th>\n",
       "      <td>黃遠鵬</td>\n",
       "      <td>麗寶大數據股份有限公司</td>\n",
       "      <td>十專獎</td>\n",
       "    </tr>\n",
       "    <tr>\n",
       "      <th>9</th>\n",
       "      <td>蔡昆男</td>\n",
       "      <td>致伸科技股份有限公司</td>\n",
       "      <td>十專獎</td>\n",
       "    </tr>\n",
       "  </tbody>\n",
       "</table>\n",
       "</div>"
      ],
      "text/plain": [
       "  專案經理人姓名               參賽單位名稱   獎項\n",
       "0     呂炯明         資拓宏宇國際股份有限公司  十專獎\n",
       "1     李得元               嘉南藥理大學  十專獎\n",
       "2     林慶和  中華電信股份有限公司臺灣南區電信分公司  十專獎\n",
       "3     侯里智     香港商聯寶電腦有限公司台灣分公司  十專獎\n",
       "4     莊信慧           中華開發金融控股公司  十專獎\n",
       "5     郭慶輝       樂高渥克公關廣告活動有限公司  十專獎\n",
       "6     陳協良       台灣世曦工程顧問股份有限公司  十專獎\n",
       "7     黃俊銘     行政院環境保護署環境監測及資訊處  十專獎\n",
       "8     黃遠鵬          麗寶大數據股份有限公司  十專獎\n",
       "9     蔡昆男           致伸科技股份有限公司  十專獎"
      ]
     },
     "execution_count": 25,
     "metadata": {},
     "output_type": "execute_result"
    }
   ],
   "source": [
    "dfs[1]"
   ]
  },
  {
   "cell_type": "markdown",
   "metadata": {},
   "source": [
    "# 台積電"
   ]
  },
  {
   "cell_type": "code",
   "execution_count": 26,
   "metadata": {},
   "outputs": [],
   "source": [
    "import pandas_datareader.data as web"
   ]
  },
  {
   "cell_type": "code",
   "execution_count": 29,
   "metadata": {},
   "outputs": [
    {
     "data": {
      "text/plain": [
       "<matplotlib.axes._subplots.AxesSubplot at 0x1f943117160>"
      ]
     },
     "execution_count": 29,
     "metadata": {},
     "output_type": "execute_result"
    },
    {
     "data": {
      "image/png": "[encoded data removed]",
      "text/plain": [
       "<Figure size 432x288 with 1 Axes>"
      ]
     },
     "metadata": {
      "needs_background": "light"
     },
     "output_type": "display_data"
    }
   ],
   "source": [
    "df = web.DataReader(\"2330.tw\", 'yahoo', \"2019-01-01\")\n",
    "df.head()\n",
    "df['Close'].plot()\n"
   ]
  },
  {
   "cell_type": "code",
   "execution_count": 41,
   "metadata": {},
   "outputs": [
    {
     "data": {
      "text/html": [
       "<div>\n",
       "<style scoped>\n",
       "    .dataframe tbody tr th:only-of-type {\n",
       "        vertical-align: middle;\n",
       "    }\n",
       "\n",
       "    .dataframe tbody tr th {\n",
       "        vertical-align: top;\n",
       "    }\n",
       "\n",
       "    .dataframe thead th {\n",
       "        text-align: right;\n",
       "    }\n",
       "</style>\n",
       "<table border=\"1\" class=\"dataframe\">\n",
       "  <thead>\n",
       "    <tr style=\"text-align: right;\">\n",
       "      <th></th>\n",
       "      <th>High</th>\n",
       "      <th>Low</th>\n",
       "      <th>Open</th>\n",
       "      <th>Close</th>\n",
       "      <th>Volume</th>\n",
       "      <th>Adj Close</th>\n",
       "    </tr>\n",
       "    <tr>\n",
       "      <th>Date</th>\n",
       "      <th></th>\n",
       "      <th></th>\n",
       "      <th></th>\n",
       "      <th></th>\n",
       "      <th></th>\n",
       "      <th></th>\n",
       "    </tr>\n",
       "  </thead>\n",
       "  <tbody>\n",
       "    <tr>\n",
       "      <th>2020-10-29</th>\n",
       "      <td>439.5</td>\n",
       "      <td>435.5</td>\n",
       "      <td>436.5</td>\n",
       "      <td>437.0</td>\n",
       "      <td>41285612.0</td>\n",
       "      <td>437.0</td>\n",
       "    </tr>\n",
       "    <tr>\n",
       "      <th>2020-10-30</th>\n",
       "      <td>437.0</td>\n",
       "      <td>432.0</td>\n",
       "      <td>437.0</td>\n",
       "      <td>432.0</td>\n",
       "      <td>47668895.0</td>\n",
       "      <td>432.0</td>\n",
       "    </tr>\n",
       "    <tr>\n",
       "      <th>2020-11-02</th>\n",
       "      <td>435.5</td>\n",
       "      <td>428.0</td>\n",
       "      <td>433.0</td>\n",
       "      <td>435.5</td>\n",
       "      <td>33477443.0</td>\n",
       "      <td>435.5</td>\n",
       "    </tr>\n",
       "    <tr>\n",
       "      <th>2020-11-03</th>\n",
       "      <td>443.0</td>\n",
       "      <td>438.0</td>\n",
       "      <td>439.5</td>\n",
       "      <td>441.0</td>\n",
       "      <td>30328495.0</td>\n",
       "      <td>441.0</td>\n",
       "    </tr>\n",
       "    <tr>\n",
       "      <th>2020-11-04</th>\n",
       "      <td>451.5</td>\n",
       "      <td>443.0</td>\n",
       "      <td>444.5</td>\n",
       "      <td>450.0</td>\n",
       "      <td>37512790.0</td>\n",
       "      <td>450.0</td>\n",
       "    </tr>\n",
       "    <tr>\n",
       "      <th>2020-11-05</th>\n",
       "      <td>451.5</td>\n",
       "      <td>445.5</td>\n",
       "      <td>451.5</td>\n",
       "      <td>451.0</td>\n",
       "      <td>34886108.0</td>\n",
       "      <td>451.0</td>\n",
       "    </tr>\n",
       "    <tr>\n",
       "      <th>2020-11-06</th>\n",
       "      <td>455.5</td>\n",
       "      <td>450.0</td>\n",
       "      <td>455.0</td>\n",
       "      <td>452.5</td>\n",
       "      <td>30154140.0</td>\n",
       "      <td>452.5</td>\n",
       "    </tr>\n",
       "    <tr>\n",
       "      <th>2020-11-09</th>\n",
       "      <td>460.0</td>\n",
       "      <td>454.0</td>\n",
       "      <td>458.0</td>\n",
       "      <td>458.5</td>\n",
       "      <td>39245881.0</td>\n",
       "      <td>458.5</td>\n",
       "    </tr>\n",
       "    <tr>\n",
       "      <th>2020-11-10</th>\n",
       "      <td>454.5</td>\n",
       "      <td>448.5</td>\n",
       "      <td>452.0</td>\n",
       "      <td>451.0</td>\n",
       "      <td>34820499.0</td>\n",
       "      <td>451.0</td>\n",
       "    </tr>\n",
       "    <tr>\n",
       "      <th>2020-11-11</th>\n",
       "      <td>457.0</td>\n",
       "      <td>448.5</td>\n",
       "      <td>448.5</td>\n",
       "      <td>457.0</td>\n",
       "      <td>36550000.0</td>\n",
       "      <td>457.0</td>\n",
       "    </tr>\n",
       "  </tbody>\n",
       "</table>\n",
       "</div>"
      ],
      "text/plain": [
       "             High    Low   Open  Close      Volume  Adj Close\n",
       "Date                                                         \n",
       "2020-10-29  439.5  435.5  436.5  437.0  41285612.0      437.0\n",
       "2020-10-30  437.0  432.0  437.0  432.0  47668895.0      432.0\n",
       "2020-11-02  435.5  428.0  433.0  435.5  33477443.0      435.5\n",
       "2020-11-03  443.0  438.0  439.5  441.0  30328495.0      441.0\n",
       "2020-11-04  451.5  443.0  444.5  450.0  37512790.0      450.0\n",
       "2020-11-05  451.5  445.5  451.5  451.0  34886108.0      451.0\n",
       "2020-11-06  455.5  450.0  455.0  452.5  30154140.0      452.5\n",
       "2020-11-09  460.0  454.0  458.0  458.5  39245881.0      458.5\n",
       "2020-11-10  454.5  448.5  452.0  451.0  34820499.0      451.0\n",
       "2020-11-11  457.0  448.5  448.5  457.0  36550000.0      457.0"
      ]
     },
     "execution_count": 41,
     "metadata": {},
     "output_type": "execute_result"
    }
   ],
   "source": [
    "df.tail(10)"
   ]
  },
  {
   "cell_type": "code",
   "execution_count": 43,
   "metadata": {},
   "outputs": [
    {
     "data": {
      "text/plain": [
       "<matplotlib.axes._subplots.AxesSubplot at 0x1f943101d30>"
      ]
     },
     "execution_count": 43,
     "metadata": {},
     "output_type": "execute_result"
    },
    {
     "data": {
      "image/png": "[encoded data removed]",
      "text/plain": [
       "<Figure size 432x288 with 1 Axes>"
      ]
     },
     "metadata": {
      "needs_background": "light"
     },
     "output_type": "display_data"
    }
   ],
   "source": [
    "df.tail(10)['Close'].plot()"
   ]
  },
  {
   "cell_type": "markdown",
   "metadata": {},
   "source": [
    "# 2020年購買獲利率"
   ]
  },
  {
   "cell_type": "code",
   "execution_count": 31,
   "metadata": {},
   "outputs": [
    {
     "data": {
      "text/plain": [
       "Date\n",
       "2020-01-02    339.0\n",
       "2020-01-03    339.5\n",
       "2020-01-06    332.0\n",
       "2020-01-07    329.5\n",
       "2020-01-08    329.5\n",
       "              ...  \n",
       "2020-11-05    451.0\n",
       "2020-11-06    452.5\n",
       "2020-11-09    458.5\n",
       "2020-11-10    451.0\n",
       "2020-11-11    457.0\n",
       "Name: Close, Length: 209, dtype: float64"
      ]
     },
     "execution_count": 31,
     "metadata": {},
     "output_type": "execute_result"
    }
   ],
   "source": [
    "df['Close']['2020']"
   ]
  },
  {
   "cell_type": "code",
   "execution_count": 33,
   "metadata": {},
   "outputs": [
    {
     "data": {
      "text/plain": [
       "339.0"
      ]
     },
     "execution_count": 33,
     "metadata": {},
     "output_type": "execute_result"
    }
   ],
   "source": [
    "df['Close']['2020'][0]"
   ]
  },
  {
   "cell_type": "code",
   "execution_count": 34,
   "metadata": {},
   "outputs": [
    {
     "data": {
      "text/plain": [
       "457.0"
      ]
     },
     "execution_count": 34,
     "metadata": {},
     "output_type": "execute_result"
    }
   ],
   "source": [
    "df['Close']['2020'][-1]"
   ]
  },
  {
   "cell_type": "code",
   "execution_count": 35,
   "metadata": {},
   "outputs": [
    {
     "data": {
      "text/plain": [
       "1.3480825958702065"
      ]
     },
     "execution_count": 35,
     "metadata": {},
     "output_type": "execute_result"
    }
   ],
   "source": [
    "df['Close']['2020'][-1]/df['Close']['2020'][0]"
   ]
  },
  {
   "cell_type": "markdown",
   "metadata": {},
   "source": [
    "# 特定日期購買獲利率"
   ]
  },
  {
   "cell_type": "code",
   "execution_count": 52,
   "metadata": {},
   "outputs": [
    {
     "data": {
      "text/plain": [
       "460.0"
      ]
     },
     "execution_count": 52,
     "metadata": {},
     "output_type": "execute_result"
    }
   ],
   "source": [
    "df.loc['2020-10-12']['Close']"
   ]
  },
  {
   "cell_type": "code",
   "execution_count": 36,
   "metadata": {},
   "outputs": [
    {
     "data": {
      "text/plain": [
       "457.0"
      ]
     },
     "execution_count": 36,
     "metadata": {},
     "output_type": "execute_result"
    }
   ],
   "source": [
    "df['Close']['2020'][-1]"
   ]
  },
  {
   "cell_type": "code",
   "execution_count": 37,
   "metadata": {},
   "outputs": [
    {
     "data": {
      "text/plain": [
       "0.9934782608695653"
      ]
     },
     "execution_count": 37,
     "metadata": {},
     "output_type": "execute_result"
    }
   ],
   "source": [
    "df['Close']['2020'][-1]/df.loc['2020-10-12']['Close']"
   ]
  },
  {
   "cell_type": "markdown",
   "metadata": {},
   "source": [
    "# 投資高手購買獲利率"
   ]
  },
  {
   "cell_type": "code",
   "execution_count": 38,
   "metadata": {},
   "outputs": [
    {
     "data": {
      "text/plain": [
       "2.2211538461538463"
      ]
     },
     "execution_count": 38,
     "metadata": {},
     "output_type": "execute_result"
    }
   ],
   "source": [
    "df['Close'].max()/df['Close'].min()"
   ]
  },
  {
   "cell_type": "code",
   "execution_count": 39,
   "metadata": {},
   "outputs": [
    {
     "data": {
      "text/plain": [
       "462.0"
      ]
     },
     "execution_count": 39,
     "metadata": {},
     "output_type": "execute_result"
    }
   ],
   "source": [
    "df['Close'].max()"
   ]
  },
  {
   "cell_type": "code",
   "execution_count": 40,
   "metadata": {},
   "outputs": [
    {
     "data": {
      "text/plain": [
       "208.0"
      ]
     },
     "execution_count": 40,
     "metadata": {},
     "output_type": "execute_result"
    }
   ],
   "source": [
    "df['Close'].min()"
   ]
  },
  {
   "cell_type": "code",
   "execution_count": null,
   "metadata": {},
   "outputs": [],
   "source": []
  }
 ],
 "metadata": {
  "kernelspec": {
   "display_name": "Python 3",
   "language": "python",
   "name": "python3"
  },
  "language_info": {
   "codemirror_mode": {
    "name": "ipython",
    "version": 3
   },
   "file_extension": ".py",
   "mimetype": "text/x-python",
   "name": "python",
   "nbconvert_exporter": "python",
   "pygments_lexer": "ipython3",
   "version": "3.5.4"
  }
 },
 "nbformat": 4,
 "nbformat_minor": 4
}
